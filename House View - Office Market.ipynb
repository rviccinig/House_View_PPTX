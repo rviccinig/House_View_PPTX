{
 "cells": [
  {
   "attachments": {
    "image-4.png": {
     "image/png": "[encoded data removed]"
    }
   },
   "cell_type": "markdown",
   "metadata": {},
   "source": [
    "<left><img src=\"attachment:image-4.png\"/></left>"
   ]
  },
  {
   "cell_type": "markdown",
   "metadata": {},
   "source": [
    "## House View -  Office Market"
   ]
  },
  {
   "cell_type": "markdown",
   "metadata": {},
   "source": [
    "#### Usage Guide: \n",
    "\n",
    "0. VERY IMPORTANT!! MAKE THE DATABANK STRUCTURE REMAINS THE SAME EVERY QUARTER!!\n",
    "\n",
    "1. CHECK THE CONFIGURATION CELL BELOW AND CHANGE \"FILE OUTPUT NAME\" ,  \"DATABANK TO BE LOADED\"(FX. Q3 2021 DATABANK .XLX)\n",
    "\n",
    "2. LOAD ALL THE DATABASES AND CONVERT THEM IN DICTIONARIES\n",
    "\n",
    "3. CHECK THAT ALL THE SERIES MATCH THE TIME PERIOD\n",
    "\n",
    "\n",
    "#### NOTE\n",
    "\n",
    "- Make sure the dictionary keys are the same! don't change that!\n",
    "- Marke sure the YTD Sales Adjusted Price Column is all numbers not string\n",
    "\n",
    "\n",
    "#### Help Files :\n",
    "\n",
    "- https://python-pptx.readthedocs.io/en/latest/user/placeholders-using.html\n",
    "- https://python-pptx.readthedocs.io/en/latest/user/charts.html\n",
    "- https://pandas.pydata.org/docs/reference/api/pandas.DataFrame.to_dict.html"
   ]
  },
  {
   "cell_type": "markdown",
   "metadata": {},
   "source": [
    "#### Configuration:"
   ]
  },
  {
   "cell_type": "code",
   "execution_count": 1,
   "metadata": {
    "code_folding": []
   },
   "outputs": [],
   "source": [
    "# Config file\n",
    "#Canada CM Databank - Q3 2021 - WIP v12.xlsx\n",
    "#Canada CM Databank - Q2 2021_Final_6_V2.xlsx\n",
    "Databank_name='Canada CM Databank - Q3 2021 - NEW3.xlsx'\n",
    "file_output_name=\"Q3_2021_Office.pptx\""
   ]
  },
  {
   "cell_type": "markdown",
   "metadata": {},
   "source": [
    "#### Loading and Formatting the Databank: "
   ]
  },
  {
   "cell_type": "code",
   "execution_count": 2,
   "metadata": {
    "code_folding": [
     0
    ]
   },
   "outputs": [],
   "source": [
    "#Import Packages\n",
    "#Using the geo_env environment\n",
    "from pptx import Presentation\n",
    "from pptx.enum.shapes import MSO_SHAPE\n",
    "from pptx.dml.color import RGBColor\n",
    "from pptx.util import Inches, Pt\n",
    "from pptx.enum.dml import MSO_THEME_COLOR\n",
    "import numpy as np\n",
    "import pandas as pd\n",
    "from pptx.chart.data import CategoryChartData\n",
    "from pptx.enum.chart import XL_CHART_TYPE\n",
    "from pptx.chart.data import ChartData\n",
    "import numpy as np \n",
    "import datetime\n",
    "\n",
    "\n",
    "from pptx.dml.chtfmt import ChartFormat\n",
    "from pptx.enum.chart import (\n",
    "    XL_AXIS_CROSSES,\n",
    "    XL_CATEGORY_TYPE,\n",
    "    XL_TICK_LABEL_POSITION,\n",
    "    XL_TICK_MARK,\n",
    "    XL_LEGEND_POSITION\n",
    ")\n",
    "from pptx.oxml.ns import qn\n",
    "from pptx.oxml.simpletypes import ST_Orientation\n",
    "from pptx.shared import ElementProxy\n",
    "from pptx.text.text import Font, TextFrame\n",
    "from pptx.util import lazyproperty"
   ]
  },
  {
   "cell_type": "code",
   "execution_count": 3,
   "metadata": {
    "code_folding": [
     0
    ]
   },
   "outputs": [],
   "source": [
    "#Helper Functions:\n",
    "\n",
    "#1. Function that creates panel\n",
    "def create_panel(capital_data):\n",
    "    #Selecting the initial columns for future processing, leave the 6 column out.If a column is empty its erased...problem\n",
    "    f1 = capital_data.iloc[:, 0:6] \n",
    "    #Creating dates out of column names\n",
    "    Dates_Quarters=capital_data.columns[6:len(capital_data.columns)]\n",
    "    Dates = pd.to_datetime([f'{x[-4:]}{x[:2]}' for x in Dates_Quarters])\n",
    "    #Create a Pandas Dataframe with the Dates and size of the new panel\n",
    "    Dates_pd=pd.DataFrame(Dates)\n",
    "    Dates_pd.columns=['Dates']\n",
    "    Dates_column=pd.concat([Dates_pd]*len(f1)).reset_index(drop=True)+ pd.DateOffset(months=2)\n",
    "    #Create a panel with the first 6 variables, its very imported to sorted by index so I can flip the valus\n",
    "    Panel=pd.concat([f1]*len(Dates_pd)).sort_index(axis=0)\n",
    "    Panel=Panel.reset_index(drop=True)\n",
    "    #Values of the Statistics\n",
    "    List_of_Rows=[]\n",
    "    Series=capital_data.iloc[:, 6:]\n",
    "    for i in range(0,len(Series)):\n",
    "        list_Series=Series.loc[i].reset_index(drop=True)\n",
    "        frame=pd.DataFrame(list_Series)\n",
    "        frame.columns=['Value']\n",
    "        List_of_Rows.append(frame)\n",
    "    Values=pd.concat(List_of_Rows)\n",
    "    Values=Values.reset_index(drop=True)\n",
    "    # Now we can Concatenate the Dates + Panel + Values\n",
    "    Result = pd.concat([Dates_column,Panel, Values], axis=1)\n",
    "    return Result\n",
    "\n",
    "#2. Separate all the series in the panel and creates a dictionary\n",
    "def create_series_dictionary(my_panel):\n",
    "    #Getting Unique Series\n",
    "    Unique_Series=my_panel.groupby(['Sector','Parameter','Sub-Type','Market','Class']).size().reset_index()\n",
    "    Unique_Series['Labels']=Unique_Series['Sector'] + \"_\"+ Unique_Series['Parameter'] + \"_\" + Unique_Series['Sub-Type'] + \"_\" + Unique_Series['Market']  + Unique_Series['Class']\n",
    "    #Dictionary with all the data\n",
    "    My_Library=dict()\n",
    "    #Addng the Dates to the Dictionary\n",
    "    Dates=my_panel['Dates'].dt.strftime(\"%m/%d/%Y\")\n",
    "    Dates=Dates.unique()   \n",
    "    My_Library['Dates']=Dates\n",
    "    #Adding the rest of the series:\n",
    "    for index,series in enumerate(Unique_Series['Labels']):\n",
    "        Data=my_panel[(my_panel['Sector'] == Unique_Series['Sector'][index]) & (my_panel['Parameter'] ==  Unique_Series['Parameter'][index])  & (my_panel['Sub-Type'] == Unique_Series['Sub-Type'][index]) & (my_panel['Market'] == Unique_Series['Market'][index]) & (my_panel['Class'] == Unique_Series['Class'][index])]\n",
    "        Data=Data['Value'].to_numpy()\n",
    "        My_Library[str(series)]=Data\n",
    "    return My_Library\n",
    "\n",
    "#Filling the Array's NAN with value\n",
    "def fill_array_with_near_value(arr):\n",
    "    ind = np.where(~np.isnan(arr))[0]\n",
    "    first, last = ind[0], ind[-1]\n",
    "    arr[:first] = arr[first]\n",
    "    arr[last + 1:] = arr[last]\n",
    "    return arr\n",
    "\n",
    "#Function that Creates table in the pptx from a pandas data frame (Table_Sorted_2) and slide.placeholder of the 'table' kind\n",
    "def create_pptx_table(Table_Sorted_2,table_1,font_size):\n",
    "    #Creates Rows and Columns of the Talbe, There is plus 1 row to account for the column headers\n",
    "    columns=Table_Sorted_2.shape[1]\n",
    "    rows=Table_Sorted_2.shape[0]+1\n",
    "    shape=table_1.insert_table(rows=rows, cols=columns)\n",
    "    My_table=shape.table\n",
    "    #Fill up the column names\n",
    "    for index,column_name in enumerate(Table_Sorted_2.columns):\n",
    "        cell= My_table.cell(0, index)\n",
    "        cell.text=column_name\n",
    "        cell.text_frame.paragraphs[0].font.size=Pt(font_size)\n",
    "    #Fill the table with the cell data\n",
    "    for row in range(1,rows):\n",
    "        for column in range(columns):\n",
    "            cell = My_table.cell(row, column)\n",
    "            #The table actual dataset had one only 10 rows.\n",
    "            cell.text =str(Table_Sorted_2.iloc[row-1,column])\n",
    "            cell.text_frame.paragraphs[0].font.size=Pt(font_size)\n",
    "\n"
   ]
  },
  {
   "cell_type": "code",
   "execution_count": 4,
   "metadata": {
    "code_folding": [
     0
    ]
   },
   "outputs": [],
   "source": [
    "#Loading Databank \"Valuation Parameters\" and Creating Panel\n",
    "capital_data=pd.read_excel(open(Databank_name,'rb'),sheet_name='Valuation Parameters', header=1,index_col= False,engine = 'openpyxl')\n",
    "\n",
    "#Creating your Panel, always remeber that there is no empty columns on the\n",
    "my_panel=create_panel(capital_data)\n",
    "\n",
    "#Put all the series into a dictionary for use\n",
    "dictionary_with_panel=create_series_dictionary(my_panel)\n",
    "\n",
    "#Quarter_Dates\n",
    "Dates_Quarters=my_panel['Dates'].dt.to_period('Q').unique\n",
    "Dates_Quarters=capital_data.columns[6:len(capital_data.columns)]\n",
    "\n"
   ]
  },
  {
   "cell_type": "code",
   "execution_count": 5,
   "metadata": {
    "code_folding": [
     0
    ],
    "collapsed": true
   },
   "outputs": [
    {
     "data": {
      "text/plain": [
       "dict_keys(['Toronto_Multifamily', 'Toronto_Land', 'Toronto_Hotel', 'Toronto_Industrial', 'Toronto_Office', 'Toronto_Retail', 'Toronto_Alternative Assets', 'Toronto_Total', 'Montreal_Multifamily', 'Montreal_Land', 'Montreal_Hotel', 'Montreal_Industrial', 'Montreal_Office', 'Montreal_Retail', 'Montreal_Alternative Assets', 'Montreal_Total', 'Vancouver_Multifamily', 'Vancouver_Land', 'Vancouver_Hotel', 'Vancouver_Industrial', 'Vancouver_Office', 'Vancouver_Retail', 'Vancouver_Alternative Assets', 'Vancouver_Total', 'Ottawa_Multifamily', 'Ottawa_Land', 'Ottawa_Hotel', 'Ottawa_Industrial', 'Ottawa_Office', 'Ottawa_Retail', 'Ottawa_Alternative Assets', 'Ottawa_Total', 'Calgary_Multifamily', 'Calgary_Land', 'Calgary_Hotel', 'Calgary_Industrial', 'Calgary_Office', 'Calgary_Retail', 'Calgary_Alternative Assets', 'Calgary_Total', 'Edmonton_Multifamily', 'Edmonton_Land', 'Edmonton_Hotel', 'Edmonton_Industrial', 'Edmonton_Office', 'Edmonton_Retail', 'Edmonton_Alternative Assets', 'Edmonton_Total', 'Canada_Alternative Assets', 'Canada_Hotel', 'Canada_Industrial', 'Canada_Land', 'Canada_Multifamily', 'Canada_Office', 'Canada_Retail', 'Canada_Total', 'SWO_Multifamily', 'SWO_Land', 'SWO_Hotel', 'SWO_Industrial', 'SWO_Office', 'SWO_Retail', 'SWO_Alternative Assets', 'SWO_Total'])"
      ]
     },
     "execution_count": 5,
     "metadata": {},
     "output_type": "execute_result"
    }
   ],
   "source": [
    "#Loading Databank \"Hist. Inv. Volumes\" and Data Structures Necesary\n",
    "list_inv_volumes=pd.read_excel(open(Databank_name,'rb'),sheet_name='Hist. Inv. Volumes', header=0,index_col= False,engine = 'openpyxl')\n",
    "\n",
    "#Dictionary For Access to Dates\n",
    "Dates_Inv_volumes=list_inv_volumes.columns[2:]\n",
    "  \n",
    "# Series Data for Charts, you can use the other one to create pivot tables\n",
    "Labels=list_inv_volumes['Market']+'_'+list_inv_volumes['Asset Class']\n",
    "new_col_names=list(Labels)\n",
    "f1 = list_inv_volumes.iloc[:, 2:].T\n",
    "f2=f1.to_dict('series')\n",
    "new_dict=dict()\n",
    "for i in f2.keys():\n",
    "    new_dict[new_col_names[i]]=f2[i]\n",
    "\n",
    "new_dict.keys()"
   ]
  },
  {
   "cell_type": "code",
   "execution_count": 6,
   "metadata": {
    "code_folding": [
     0
    ],
    "collapsed": true
   },
   "outputs": [
    {
     "data": {
      "text/plain": [
       "dict_keys(['Canada 1 Year Treasury Bill Yield - Bank of Canada 1 year bond yield_Bond_National_Bond_Interest Rate_Bank of Canada - Y Charts', 'Canada 10 Year Benchmark Bond Yield -Bank of Canada 10 year bond yield_Bond_National_Bond_Interest Rate_Bank of Canada - Y Charts', 'Canada 2 Year Benchmark Bond Yield - Bank of Canada 2 year bond yield_Bond_National_Bond_Interest Rate_Bank of Canada - Y Charts', 'Canada 5 Year Benchmark Bond Yield - Bank of Canada 5 year bond yield_Bond_National_Bond_Interest Rate_Bank of Canada - Y Charts', 'Canada Target Overnight Rate - Bank of Canada Overnight Interest Rate_Interest Rate_National_Interest Rate_Interest Rate_Bank of Canada - Y Charts', 'Bank of Canada Prime Lending Rate_Interest Rate_National_Interest Rate_Interest Rate_Bank of Canada - Y Charts', 'CMHC_Interest Rate_National_Mortgage_Interest Rate_Bank of Canada', 'Commercial Mortgage Rate - 10 Yr_Interest Rate_National_Mortgage_Interest Rate_Bank of Canada', 'Commercial Mortgage Rate - 5 Yr_Interest Rate_National_Mortgage_Interest Rate_Bank of Canada', 'MSCI/Realpac Index_Annual Return: Capital Growth _Calgary_All_Return_MSCI', 'MSCI/Realpac Index_Annual Return: income Growth_Calgary_All_Return_MSCI', 'MSCI/Realpac Index_Annual Return: Total_Calgary_All_Return_MSCI', 'MSCI/Realpac Index_Annual Return: Capital Growth _Calgary_Industrial_Return_MSCI', 'MSCI/Realpac Index_Annual Return: income Growth_Calgary_Industrial_Return_MSCI', 'MSCI/Realpac Index_Annual Return: Total_Calgary_Industrial_Return_MSCI', 'MSCI/Realpac Index_Annual Return: Capital Growth _Calgary_Office_Return_MSCI', 'MSCI/Realpac Index_Annual Return: income Growth_Calgary_Office_Return_MSCI', 'MSCI/Realpac Index_Annual Return: Total_Calgary_Office_Return_MSCI', 'MSCI/Realpac Index_Annual Return: Capital Growth _Calgary_Residential_Return_MSCI', 'MSCI/Realpac Index_Annual Return: income Growth_Calgary_Residential_Return_MSCI', 'MSCI/Realpac Index_Annual Return: Total_Calgary_Residential_Return_MSCI', 'MSCI/Realpac Index_Annual Return: Capital Growth _Calgary_Retail_Return_MSCI', 'MSCI/Realpac Index_Annual Return: income Growth_Calgary_Retail_Return_MSCI', 'MSCI/Realpac Index_Annual Return: Total_Calgary_Retail_Return_MSCI', 'MSCI/Realpac Index_Annual Return: Capital Growth _Edmonton_All_Return_MSCI', 'MSCI/Realpac Index_Annual Return: income Growth_Edmonton_All_Return_MSCI', 'MSCI/Realpac Index_Annual Return: Total_Edmonton_All_Return_MSCI', 'MSCI/Realpac Index_Annual Return: Capital Growth _Edmonton_Industrial_Return_MSCI', 'MSCI/Realpac Index_Annual Return: income Growth_Edmonton_Industrial_Return_MSCI', 'MSCI/Realpac Index_Annual Return: Total_Edmonton_Industrial_Return_MSCI', 'MSCI/Realpac Index_Annual Return: Capital Growth _Edmonton_Office_Return_MSCI', 'MSCI/Realpac Index_Annual Return: income Growth_Edmonton_Office_Return_MSCI', 'MSCI/Realpac Index_Annual Return: Total_Edmonton_Office_Return_MSCI', 'MSCI/Realpac Index_Annual Return: Capital Growth _Edmonton_Residential_Return_MSCI', 'MSCI/Realpac Index_Annual Return: income Growth_Edmonton_Residential_Return_MSCI', 'MSCI/Realpac Index_Annual Return: Total_Edmonton_Residential_Return_MSCI', 'MSCI/Realpac Index_Annual Return: Capital Growth _Edmonton_Retail_Return_MSCI', 'MSCI/Realpac Index_Annual Return: income Growth_Edmonton_Retail_Return_MSCI', 'MSCI/Realpac Index_Annual Return: Total_Edmonton_Retail_Return_MSCI', 'MSCI/Realpac Index_Annual Return: Capital Growth _Halifax_All_Return_MSCI', 'MSCI/Realpac Index_Annual Return: income Growth_Halifax_All_Return_MSCI', 'MSCI/Realpac Index_Annual Return: Total_Halifax_All_Return_MSCI', 'MSCI/Realpac Index_Annual Return: Capital Growth _Halifax_Industrial_Return_MSCI', 'MSCI/Realpac Index_Annual Return: income Growth_Halifax_Industrial_Return_MSCI', 'MSCI/Realpac Index_Annual Return: Total_Halifax_Industrial_Return_MSCI', 'MSCI/Realpac Index_Annual Return: Capital Growth _Halifax_Office_Return_MSCI', 'MSCI/Realpac Index_Annual Return: income Growth_Halifax_Office_Return_MSCI', 'MSCI/Realpac Index_Annual Return: Total_Halifax_Office_Return_MSCI', 'MSCI/Realpac Index_Annual Return: Capital Growth _Halifax_Residential_Return_MSCI', 'MSCI/Realpac Index_Annual Return: income Growth_Halifax_Residential_Return_MSCI', 'MSCI/Realpac Index_Annual Return: Total_Halifax_Residential_Return_MSCI', 'MSCI/Realpac Index_Annual Return: Capital Growth _Halifax_Retail_Return_MSCI', 'MSCI/Realpac Index_Annual Return: income Growth_Halifax_Retail_Return_MSCI', 'MSCI/Realpac Index_Annual Return: Total_Halifax_Retail_Return_MSCI', 'MSCI/Realpac Index_Annual Return: Capital Growth _Montreal_All_Return_MSCI', 'MSCI/Realpac Index_Annual Return: income Growth_Montreal_All_Return_MSCI', 'MSCI/Realpac Index_Annual Return: Total_Montreal_All_Return_MSCI', 'MSCI/Realpac Index_Annual Return: Capital Growth _Montreal_Industrial_Return_MSCI', 'MSCI/Realpac Index_Annual Return: income Growth_Montreal_Industrial_Return_MSCI', 'MSCI/Realpac Index_Annual Return: Total_Montreal_Industrial_Return_MSCI', 'MSCI/Realpac Index_Annual Return: Capital Growth _Montreal_Office_Return_MSCI', 'MSCI/Realpac Index_Annual Return: income Growth_Montreal_Office_Return_MSCI', 'MSCI/Realpac Index_Annual Return: Total_Montreal_Office_Return_MSCI', 'MSCI/Realpac Index_Annual Return: Capital Growth _Montreal_Residential_Return_MSCI', 'MSCI/Realpac Index_Annual Return: income Growth_Montreal_Residential_Return_MSCI', 'MSCI/Realpac Index_Annual Return: Total_Montreal_Residential_Return_MSCI', 'MSCI/Realpac Index_Annual Return: Capital Growth _Montreal_Retail_Return_MSCI', 'MSCI/Realpac Index_Annual Return: income Growth_Montreal_Retail_Return_MSCI', 'MSCI/Realpac Index_Annual Return: Total_Montreal_Retail_Return_MSCI', 'MSCI/Realpac Index_Annual Return: Capital Growth _National_All_Return_MSCI', 'MSCI/Realpac Index_Annual Return: income Growth_National_All_Return_MSCI', 'MSCI/Realpac Index_Annual Return: Total_National_All_Return_MSCI', 'MSCI/Realpac Index_Annual Return: Capital Growth _National_Industrial_Return_MSCI', 'MSCI/Realpac Index_Annual Return: income Growth_National_Industrial_Return_MSCI', 'MSCI/Realpac Index_Annual Return: Total_National_Industrial_Return_MSCI', 'MSCI/Realpac Index_Annual Return: Capital Growth _National_Office_Return_MSCI', 'MSCI/Realpac Index_Annual Return: income Growth_National_Office_Return_MSCI', 'MSCI/Realpac Index_Annual Return: Total_National_Office_Return_MSCI', 'MSCI/Realpac Index_Annual Return: Capital Growth _National_Residential_Return_MSCI', 'MSCI/Realpac Index_Annual Return: income Growth_National_Residential_Return_MSCI', 'MSCI/Realpac Index_Annual Return: Total_National_Residential_Return_MSCI', 'MSCI/Realpac Index_Annual Return: Capital Growth _National_Retail_Return_MSCI', 'MSCI/Realpac Index_Annual Return: income Growth_National_Retail_Return_MSCI', 'MSCI/Realpac Index_Annual Return: Total_National_Retail_Return_MSCI', 'MSCI/Realpac Index_Annual Return: Capital Growth _Ottawa_All_Return_MSCI', 'MSCI/Realpac Index_Annual Return: income Growth_Ottawa_All_Return_MSCI', 'MSCI/Realpac Index_Annual Return: Total_Ottawa_All_Return_MSCI', 'MSCI/Realpac Index_Annual Return: Capital Growth _Ottawa_Industrial_Return_MSCI', 'MSCI/Realpac Index_Annual Return: income Growth_Ottawa_Industrial_Return_MSCI', 'MSCI/Realpac Index_Annual Return: Total_Ottawa_Industrial_Return_MSCI', 'MSCI/Realpac Index_Annual Return: Capital Growth _Ottawa_Office_Return_MSCI', 'MSCI/Realpac Index_Annual Return: income Growth_Ottawa_Office_Return_MSCI', 'MSCI/Realpac Index_Annual Return: Total_Ottawa_Office_Return_MSCI', 'MSCI/Realpac Index_Annual Return: Capital Growth _Ottawa_Residential_Return_MSCI', 'MSCI/Realpac Index_Annual Return: income Growth_Ottawa_Residential_Return_MSCI', 'MSCI/Realpac Index_Annual Return: Total_Ottawa_Residential_Return_MSCI', 'MSCI/Realpac Index_Annual Return: Capital Growth _Ottawa_Retail_Return_MSCI', 'MSCI/Realpac Index_Annual Return: income Growth_Ottawa_Retail_Return_MSCI', 'MSCI/Realpac Index_Annual Return: Total_Ottawa_Retail_Return_MSCI', 'MSCI/Realpac Index_Annual Return: Capital Growth _Regina_All_Return_MSCI', 'MSCI/Realpac Index_Annual Return: income Growth_Regina_All_Return_MSCI', 'MSCI/Realpac Index_Annual Return: Total_Regina_All_Return_MSCI', 'MSCI/Realpac Index_Annual Return: Capital Growth _Regina_Retail_Return_MSCI', 'MSCI/Realpac Index_Annual Return: income Growth_Regina_Retail_Return_MSCI', 'MSCI/Realpac Index_Annual Return: Total_Regina_Retail_Return_MSCI', 'MSCI/Realpac Index_Annual Return: Capital Growth _Toronto_All_Return_MSCI', 'MSCI/Realpac Index_Annual Return: income Growth_Toronto_All_Return_MSCI', 'MSCI/Realpac Index_Annual Return: Total_Toronto_All_Return_MSCI', 'MSCI/Realpac Index_Annual Return: Capital Growth _Toronto_Industrial_Return_MSCI', 'MSCI/Realpac Index_Annual Return: income Growth_Toronto_Industrial_Return_MSCI', 'MSCI/Realpac Index_Annual Return: Total_Toronto_Industrial_Return_MSCI', 'MSCI/Realpac Index_Annual Return: Capital Growth _Toronto_Office_Return_MSCI', 'MSCI/Realpac Index_Annual Return: income Growth_Toronto_Office_Return_MSCI', 'MSCI/Realpac Index_Annual Return: Total_Toronto_Office_Return_MSCI', 'MSCI/Realpac Index_Annual Return: Capital Growth _Toronto_Residential_Return_MSCI', 'MSCI/Realpac Index_Annual Return: income Growth_Toronto_Residential_Return_MSCI', 'MSCI/Realpac Index_Annual Return: Total_Toronto_Residential_Return_MSCI', 'MSCI/Realpac Index_Annual Return: Capital Growth _Toronto_Retail_Return_MSCI', 'MSCI/Realpac Index_Annual Return: income Growth_Toronto_Retail_Return_MSCI', 'MSCI/Realpac Index_Annual Return: Total_Toronto_Retail_Return_MSCI', 'MSCI/Realpac Index_Annual Return: Capital Growth _Vancouver_All_Return_MSCI', 'MSCI/Realpac Index_Annual Return: income Growth_Vancouver_All_Return_MSCI', 'MSCI/Realpac Index_Annual Return: Total_Vancouver_All_Return_MSCI', 'MSCI/Realpac Index_Annual Return: Capital Growth _Vancouver_Industrial_Return_MSCI', 'MSCI/Realpac Index_Annual Return: income Growth_Vancouver_Industrial_Return_MSCI', 'MSCI/Realpac Index_Annual Return: Total_Vancouver_Industrial_Return_MSCI', 'MSCI/Realpac Index_Annual Return: Capital Growth _Vancouver_Office_Return_MSCI', 'MSCI/Realpac Index_Annual Return: income Growth_Vancouver_Office_Return_MSCI', 'MSCI/Realpac Index_Annual Return: Total_Vancouver_Office_Return_MSCI', 'MSCI/Realpac Index_Annual Return: Capital Growth _Vancouver_Residential_Return_MSCI', 'MSCI/Realpac Index_Annual Return: income Growth_Vancouver_Residential_Return_MSCI', 'MSCI/Realpac Index_Annual Return: Total_Vancouver_Residential_Return_MSCI', 'MSCI/Realpac Index_Annual Return: Capital Growth _Vancouver_Retail_Return_MSCI', 'MSCI/Realpac Index_Annual Return: income Growth_Vancouver_Retail_Return_MSCI', 'MSCI/Realpac Index_Annual Return: Total_Vancouver_Retail_Return_MSCI', 'MSCI/Realpac Index_Annual Return: Capital Growth _Victoria_All_Return_MSCI', 'MSCI/Realpac Index_Annual Return: income Growth_Victoria_All_Return_MSCI', 'MSCI/Realpac Index_Annual Return: Total_Victoria_All_Return_MSCI', 'MSCI/Realpac Index_Annual Return: Capital Growth _Victoria_Office_Return_MSCI', 'MSCI/Realpac Index_Annual Return: income Growth_Victoria_Office_Return_MSCI', 'MSCI/Realpac Index_Annual Return: Total_Victoria_Office_Return_MSCI', 'MSCI/Realpac Index_Annual Return: Capital Growth _Victoria_Residential_Return_MSCI', 'MSCI/Realpac Index_Annual Return: income Growth_Victoria_Residential_Return_MSCI', 'MSCI/Realpac Index_Annual Return: Total_Victoria_Residential_Return_MSCI', 'MSCI/Realpac Index_Annual Return: Capital Growth _Victoria_Retail_Return_MSCI', 'MSCI/Realpac Index_Annual Return: income Growth_Victoria_Retail_Return_MSCI', 'MSCI/Realpac Index_Annual Return: Total_Victoria_Retail_Return_MSCI', 'MSCI/Realpac Index_Annual Return: Capital Growth _Winnipeg_All_Return_MSCI', 'MSCI/Realpac Index_Annual Return: income Growth_Winnipeg_All_Return_MSCI', 'MSCI/Realpac Index_Annual Return: Total_Winnipeg_All_Return_MSCI', 'MSCI/Realpac Index_Annual Return: Capital Growth _Winnipeg_Industrial_Return_MSCI', 'MSCI/Realpac Index_Annual Return: income Growth_Winnipeg_Industrial_Return_MSCI', 'MSCI/Realpac Index_Annual Return: Total_Winnipeg_Industrial_Return_MSCI', 'MSCI/Realpac Index_Annual Return: Capital Growth _Winnipeg_Office_Return_MSCI', 'MSCI/Realpac Index_Annual Return: income Growth_Winnipeg_Office_Return_MSCI', 'MSCI/Realpac Index_Annual Return: Total_Winnipeg_Office_Return_MSCI', 'MSCI/Realpac Index_Annual Return: Capital Growth _Winnipeg_Retail_Return_MSCI', 'MSCI/Realpac Index_Annual Return: income Growth_Winnipeg_Retail_Return_MSCI', 'MSCI/Realpac Index_Annual Return: Total_Winnipeg_Retail_Return_MSCI', 'ZRE.TO  - BMO Equal Weights REITs Index ETF_ETF_National_ETF_Price_Y Charts', 'RIT.TO - First Asset Canadian REIT ETF Composite_ETF_National_ETF_Price_Y Charts', 'HGR.TO - Harvest Global REIT Leaders_ETF_National_ETF_Price_Y Charts', 'REIT.TO - Invesco S&P/TSX REIT Income Index_ETF_National_ETF_Price_Y Charts', 'REET - iShares Global Real Estate Index ETF_ETF_National_ETF_Price_Y Charts', 'XRE.TO - iShares S&P/TSX Capped REIT Index_ETF_National_ETF_Price_Y Charts', 'Purpose Duration Hedged Real Estate _ETF_National_ETF_Price_Y Charts', 'RGRE.U.TO - RBC Quant Global Real Estate _ETF_National_ETF_Price_Y Charts', 'SCGR.NO -Starlight Global Real Estate Fund ETF_ETF_National_ETF_Price_Y Charts', 'VRE.TO - Vanguard FTSE Canadian Capped REIT Index_ETF_National_ETF_Price_Y Charts', '^GSPRTRE -S&P / TSX Capped REIT Index_Index_National_Index_Level_Y Charts', 'S&P / TSX Capped REIT Index_Index_National_Index_Quarterly Change_Y Charts', '^TSX -S&P / TSX Composite_Index_National_Index_Level_Y Charts', 'S&P / TSX Composite_Index_National_Index_Quarterly Change_Y Charts'])"
      ]
     },
     "execution_count": 6,
     "metadata": {},
     "output_type": "execute_result"
    }
   ],
   "source": [
    "# Loading Databank \"Bonds, IRs, Indexes, & MSCI\"\n",
    "Financial_Data=pd.read_excel(open(Databank_name,'rb'),sheet_name='Bonds, IRs, Indexes, & MSCI', header=1,index_col= False,engine = 'openpyxl')\n",
    "\n",
    "#Dictionary For Access to Dates\n",
    "Dates_Inv_volumes=list_inv_volumes.columns[2:]\n",
    "  \n",
    "# Series Data for Charts, you can use the other one to create pivot tables\n",
    "Labels=Financial_Data['Vehicle']+'_'+Financial_Data['Type']+'_'+Financial_Data['Geography']+'_'+Financial_Data['Sector']+'_'+Financial_Data['Metric']+'_'+Financial_Data['Source']\n",
    "new_col_names=list(Labels)\n",
    "f1 = Financial_Data.iloc[:, 6:].T\n",
    "f2=f1.to_dict('series')\n",
    "Financial_Data_dict=dict()\n",
    "for i in f2.keys():\n",
    "    Financial_Data_dict[new_col_names[i]]=f2[i]\n",
    "\n",
    "Financial_Data_dict.keys()\n",
    "\n"
   ]
  },
  {
   "cell_type": "code",
   "execution_count": 7,
   "metadata": {
    "code_folding": [
     0
    ]
   },
   "outputs": [],
   "source": [
    "#Loading Databank \"YTD Sales Data\" \n",
    "Sales_Data=pd.read_excel(open(Databank_name,'rb'),sheet_name='Sales Comps - YTD', header=0,engine = 'openpyxl')\n",
    "Sales_Data_Tables=Sales_Data.filter(items=['Quarter','Sector','Transaction Name', 'Market ','Purchaser 1/ Purchaser 2/ Purchaser 3','Vendor 1/ Vendor 2/ Vendor 3','Adjusted Sale Price','Floor Area Acquired','Price PSF (Built Commercial)'])\n",
    "Sales_Data_Tables_Multifamily=Sales_Data.filter(items=['Quarter','Sector','Transaction Name', 'Market ','Purchaser 1/ Purchaser 2/ Purchaser 3','Vendor 1/ Vendor 2/ Vendor 3','Adjusted Sale Price','Number of Units','Price per Unit (MF)'])\n",
    "Sales_Data_Tables_Land=Sales_Data.filter(items=['Quarter','Sector','Transaction Name', 'Market ','Purchaser 1/ Purchaser 2/ Purchaser 3','Vendor 1/ Vendor 2/ Vendor 3','Adjusted Sale Price','Land Area','Price Per Acre (Land)'])\n",
    "\n",
    "#Sales Data Tables Sorted\n",
    "Table_Sorted=Sales_Data_Tables.sort_values(by=['Adjusted Sale Price'], ascending=False)\n",
    "Table_Sorted_Multifamily=Sales_Data_Tables_Multifamily.sort_values(by=['Adjusted Sale Price'], ascending=False)\n",
    "Table_Sorted_Land=Sales_Data_Tables_Multifamily.sort_values(by=['Adjusted Sale Price'], ascending=False)\n"
   ]
  },
  {
   "cell_type": "code",
   "execution_count": 8,
   "metadata": {
    "code_folding": [
     0
    ],
    "collapsed": true
   },
   "outputs": [
    {
     "data": {
      "text/plain": [
       "dict_keys(['Dates', 'Industrial_Average Net Rent_Multi Tenant_CalgaryOverall', 'Industrial_Average Net Rent_Multi Tenant_EdmontonOverall', 'Industrial_Average Net Rent_Multi Tenant_MontrealOverall', 'Industrial_Average Net Rent_Multi Tenant_National AverageOverall', 'Industrial_Average Net Rent_Multi Tenant_Ottawa-GatineauOverall', 'Industrial_Average Net Rent_Multi Tenant_TorontoOverall', 'Industrial_Average Net Rent_Multi Tenant_VancouverOverall', 'Industrial_Average Net Rent_Overall_CalgaryOverall', 'Industrial_Average Net Rent_Overall_EdmontonOverall', 'Industrial_Average Net Rent_Overall_MontrealOverall', 'Industrial_Average Net Rent_Overall_National AverageOverall', 'Industrial_Average Net Rent_Overall_Ottawa-GatineauOverall', 'Industrial_Average Net Rent_Overall_TorontoOverall', 'Industrial_Average Net Rent_Overall_VancouverOverall', 'Industrial_Average Net Rent_Overall_WinnipegOverall', 'Industrial_Average Net Rent_Single Tenant_CalgaryOverall', 'Industrial_Average Net Rent_Single Tenant_EdmontonOverall', 'Industrial_Average Net Rent_Single Tenant_MontrealOverall', 'Industrial_Average Net Rent_Single Tenant_National AverageOverall', 'Industrial_Average Net Rent_Single Tenant_Ottawa-GatineauOverall', 'Industrial_Average Net Rent_Single Tenant_TorontoOverall', 'Industrial_Average Net Rent_Single Tenant_VancouverOverall', 'Industrial_Avg. Sale Price PSF_Multi Tenant_CalgaryOverall', 'Industrial_Avg. Sale Price PSF_Multi Tenant_EdmontonOverall', 'Industrial_Avg. Sale Price PSF_Multi Tenant_HalifaxOverall', 'Industrial_Avg. Sale Price PSF_Multi Tenant_MontrealOverall', 'Industrial_Avg. Sale Price PSF_Multi Tenant_National AverageOverall', 'Industrial_Avg. Sale Price PSF_Multi Tenant_Ottawa-GatineauOverall', 'Industrial_Avg. Sale Price PSF_Multi Tenant_Quebec CityOverall', 'Industrial_Avg. Sale Price PSF_Multi Tenant_TorontoOverall', 'Industrial_Avg. Sale Price PSF_Multi Tenant_VancouverOverall', 'Industrial_Avg. Sale Price PSF_Overall_National AverageOverall', 'Industrial_Avg. Sale Price PSF_Single Tenant_CalgaryOverall', 'Industrial_Avg. Sale Price PSF_Single Tenant_EdmontonOverall', 'Industrial_Avg. Sale Price PSF_Single Tenant_HalifaxOverall', 'Industrial_Avg. Sale Price PSF_Single Tenant_MontrealOverall', 'Industrial_Avg. Sale Price PSF_Single Tenant_National AverageOverall', 'Industrial_Avg. Sale Price PSF_Single Tenant_Ottawa-GatineauOverall', 'Industrial_Avg. Sale Price PSF_Single Tenant_Quebec CityOverall', 'Industrial_Avg. Sale Price PSF_Single Tenant_TorontoOverall', 'Industrial_Avg. Sale Price PSF_Single Tenant_VancouverOverall', 'Industrial_Cap Rate_Multi Tenant_CalgaryOverall', 'Industrial_Cap Rate_Multi Tenant_EdmontonOverall', 'Industrial_Cap Rate_Multi Tenant_HalifaxOverall', 'Industrial_Cap Rate_Multi Tenant_MontrealOverall', 'Industrial_Cap Rate_Multi Tenant_National AverageOverall', 'Industrial_Cap Rate_Multi Tenant_Ottawa-GatineauOverall', 'Industrial_Cap Rate_Multi Tenant_Quebec CityOverall', 'Industrial_Cap Rate_Multi Tenant_TorontoOverall', 'Industrial_Cap Rate_Multi Tenant_VancouverOverall', 'Industrial_Cap Rate_Overall_National AverageOverall', 'Industrial_Cap Rate_Single Tenant_CalgaryOverall', 'Industrial_Cap Rate_Single Tenant_EdmontonOverall', 'Industrial_Cap Rate_Single Tenant_HalifaxOverall', 'Industrial_Cap Rate_Single Tenant_MontrealOverall', 'Industrial_Cap Rate_Single Tenant_National AverageOverall', 'Industrial_Cap Rate_Single Tenant_Ottawa-GatineauOverall', 'Industrial_Cap Rate_Single Tenant_Quebec CityOverall', 'Industrial_Cap Rate_Single Tenant_TorontoOverall', 'Industrial_Cap Rate_Single Tenant_VancouverOverall', 'Industrial_Contruction Completions (s.f.)_Overall_CalgaryOverall', 'Industrial_Contruction Completions (s.f.)_Overall_EdmontonOverall', 'Industrial_Contruction Completions (s.f.)_Overall_MontrealOverall', 'Industrial_Contruction Completions (s.f.)_Overall_NationalOverall', 'Industrial_Contruction Completions (s.f.)_Overall_Ottawa-GatineauOverall', 'Industrial_Contruction Completions (s.f.)_Overall_TorontoOverall', 'Industrial_Contruction Completions (s.f.)_Overall_VancouverOverall', 'Industrial_Contruction Completions (s.f.)_Overall_WinnipegOverall', 'Industrial_IRR_Multi Tenant_CalgaryOverall', 'Industrial_IRR_Multi Tenant_EdmontonOverall', 'Industrial_IRR_Multi Tenant_HalifaxOverall', 'Industrial_IRR_Multi Tenant_MontrealOverall', 'Industrial_IRR_Multi Tenant_National AverageOverall', 'Industrial_IRR_Multi Tenant_Ottawa-GatineauOverall', 'Industrial_IRR_Multi Tenant_Quebec CityOverall', 'Industrial_IRR_Multi Tenant_TorontoOverall', 'Industrial_IRR_Multi Tenant_VancouverOverall', 'Industrial_IRR_Overall_National AverageOverall', 'Industrial_IRR_Single Tenant_CalgaryOverall', 'Industrial_IRR_Single Tenant_EdmontonOverall', 'Industrial_IRR_Single Tenant_HalifaxOverall', 'Industrial_IRR_Single Tenant_MontrealOverall', 'Industrial_IRR_Single Tenant_National AverageOverall', 'Industrial_IRR_Single Tenant_Ottawa-GatineauOverall', 'Industrial_IRR_Single Tenant_Quebec CityOverall', 'Industrial_IRR_Single Tenant_TorontoOverall', 'Industrial_IRR_Single Tenant_VancouverOverall', 'Industrial_Inventory (s.f.)_Overall_CalgaryOverall', 'Industrial_Inventory (s.f.)_Overall_EdmontonOverall', 'Industrial_Inventory (s.f.)_Overall_MontrealOverall', 'Industrial_Inventory (s.f.)_Overall_NationalOverall', 'Industrial_Inventory (s.f.)_Overall_Ottawa-GatineauOverall', 'Industrial_Inventory (s.f.)_Overall_TorontoOverall', 'Industrial_Inventory (s.f.)_Overall_VancouverOverall', 'Industrial_Inventory (s.f.)_Overall_WinnipegOverall', 'Industrial_Net Absorption (s.f.)_Overall_CalgaryOverall', 'Industrial_Net Absorption (s.f.)_Overall_EdmontonOverall', 'Industrial_Net Absorption (s.f.)_Overall_MontrealOverall', 'Industrial_Net Absorption (s.f.)_Overall_NationalOverall', 'Industrial_Net Absorption (s.f.)_Overall_Ottawa-GatineauOverall', 'Industrial_Net Absorption (s.f.)_Overall_TorontoOverall', 'Industrial_Net Absorption (s.f.)_Overall_VancouverOverall', 'Industrial_Net Absorption (s.f.)_Overall_WinnipegOverall', 'Industrial_Terminal Cap Rate_Multi Tenant_CalgaryOverall', 'Industrial_Terminal Cap Rate_Multi Tenant_EdmontonOverall', 'Industrial_Terminal Cap Rate_Multi Tenant_HalifaxOverall', 'Industrial_Terminal Cap Rate_Multi Tenant_MontrealOverall', 'Industrial_Terminal Cap Rate_Multi Tenant_National AverageOverall', 'Industrial_Terminal Cap Rate_Multi Tenant_Ottawa-GatineauOverall', 'Industrial_Terminal Cap Rate_Multi Tenant_Quebec CityOverall', 'Industrial_Terminal Cap Rate_Multi Tenant_TorontoOverall', 'Industrial_Terminal Cap Rate_Multi Tenant_VancouverOverall', 'Industrial_Terminal Cap Rate_Overall_National AverageOverall', 'Industrial_Terminal Cap Rate_Single Tenant_CalgaryOverall', 'Industrial_Terminal Cap Rate_Single Tenant_EdmontonOverall', 'Industrial_Terminal Cap Rate_Single Tenant_HalifaxOverall', 'Industrial_Terminal Cap Rate_Single Tenant_MontrealOverall', 'Industrial_Terminal Cap Rate_Single Tenant_National AverageOverall', 'Industrial_Terminal Cap Rate_Single Tenant_Ottawa-GatineauOverall', 'Industrial_Terminal Cap Rate_Single Tenant_Quebec CityOverall', 'Industrial_Terminal Cap Rate_Single Tenant_TorontoOverall', 'Industrial_Terminal Cap Rate_Single Tenant_VancouverOverall', 'Industrial_Total Availability (%)_Overall_CalgaryOverall', 'Industrial_Total Availability (%)_Overall_EdmontonOverall', 'Industrial_Total Availability (%)_Overall_MontrealOverall', 'Industrial_Total Availability (%)_Overall_NationalOverall', 'Industrial_Total Availability (%)_Overall_Ottawa-GatineauOverall', 'Industrial_Total Availability (%)_Overall_TorontoOverall', 'Industrial_Total Availability (%)_Overall_VancouverOverall', 'Industrial_Total Availability (%)_Overall_WinnipegOverall', 'Industrial_Total Availability (s.f.)_Overall_CalgaryOverall', 'Industrial_Total Availability (s.f.)_Overall_EdmontonOverall', 'Industrial_Total Availability (s.f.)_Overall_MontrealOverall', 'Industrial_Total Availability (s.f.)_Overall_NationalOverall', 'Industrial_Total Availability (s.f.)_Overall_Ottawa-GatineauOverall', 'Industrial_Total Availability (s.f.)_Overall_TorontoOverall', 'Industrial_Total Availability (s.f.)_Overall_VancouverOverall', 'Industrial_Total Availability (s.f.)_Overall_WinnipegOverall', 'Industrial_Total Vacancy (s.f.)_Overall_CalgaryOverall', 'Industrial_Total Vacancy (s.f.)_Overall_EdmontonOverall', 'Industrial_Total Vacancy (s.f.)_Overall_MontrealOverall', 'Industrial_Total Vacancy (s.f.)_Overall_NationalOverall', 'Industrial_Total Vacancy (s.f.)_Overall_Ottawa-GatineauOverall', 'Industrial_Total Vacancy (s.f.)_Overall_TorontoOverall', 'Industrial_Total Vacancy (s.f.)_Overall_VancouverOverall', 'Industrial_Total Vacancy (s.f.)_Overall_WinnipegOverall', 'Industrial_Under Construction (s.f.)_Overall_CalgaryOverall', 'Industrial_Under Construction (s.f.)_Overall_EdmontonOverall', 'Industrial_Under Construction (s.f.)_Overall_MontrealOverall', 'Industrial_Under Construction (s.f.)_Overall_NationalOverall', 'Industrial_Under Construction (s.f.)_Overall_Ottawa-GatineauOverall', 'Industrial_Under Construction (s.f.)_Overall_TorontoOverall', 'Industrial_Under Construction (s.f.)_Overall_VancouverOverall', 'Industrial_Under Construction (s.f.)_Overall_WinnipegOverall', 'Industrial_Vacancy (%)_Multi Tenant_CalgaryOverall', 'Industrial_Vacancy (%)_Multi Tenant_EdmontonOverall', 'Industrial_Vacancy (%)_Multi Tenant_MontrealOverall', 'Industrial_Vacancy (%)_Multi Tenant_National AverageOverall', 'Industrial_Vacancy (%)_Multi Tenant_Ottawa-GatineauOverall', 'Industrial_Vacancy (%)_Multi Tenant_TorontoOverall', 'Industrial_Vacancy (%)_Multi Tenant_VancouverOverall', 'Industrial_Vacancy (%)_Overall_CalgaryOverall', 'Industrial_Vacancy (%)_Overall_EdmontonOverall', 'Industrial_Vacancy (%)_Overall_MontrealOverall', 'Industrial_Vacancy (%)_Overall_National AverageOverall', 'Industrial_Vacancy (%)_Overall_Ottawa-GatineauOverall', 'Industrial_Vacancy (%)_Overall_TorontoOverall', 'Industrial_Vacancy (%)_Overall_VancouverOverall', 'Industrial_Vacancy (%)_Overall_WinnipegOverall', 'Industrial_Vacancy (%)_Single Tenant_CalgaryOverall', 'Industrial_Vacancy (%)_Single Tenant_EdmontonOverall', 'Industrial_Vacancy (%)_Single Tenant_MontrealOverall', 'Industrial_Vacancy (%)_Single Tenant_National AverageOverall', 'Industrial_Vacancy (%)_Single Tenant_Ottawa-GatineauOverall', 'Industrial_Vacancy (%)_Single Tenant_TorontoOverall', 'Industrial_Vacancy (%)_Single Tenant_VancouverOverall', 'Multifamily_Average Net Rent_Overall_CalgaryOverall', 'Multifamily_Average Net Rent_Overall_EdmontonOverall', 'Multifamily_Average Net Rent_Overall_GatineauOverall', 'Multifamily_Average Net Rent_Overall_HalifaxOverall', 'Multifamily_Average Net Rent_Overall_HamiltonOverall', 'Multifamily_Average Net Rent_Overall_Kelowna Overall', 'Multifamily_Average Net Rent_Overall_Kitchener-Waterloo-CambridgeOverall', 'Multifamily_Average Net Rent_Overall_LondonOverall', 'Multifamily_Average Net Rent_Overall_MontrealOverall', 'Multifamily_Average Net Rent_Overall_National AverageOverall', 'Multifamily_Average Net Rent_Overall_Ottawa-GatineauOverall', 'Multifamily_Average Net Rent_Overall_Quebec CityOverall', 'Multifamily_Average Net Rent_Overall_ReginaOverall', 'Multifamily_Average Net Rent_Overall_SaskatoonOverall', 'Multifamily_Average Net Rent_Overall_TorontoOverall', 'Multifamily_Average Net Rent_Overall_VancouverOverall', 'Multifamily_Average Net Rent_Overall_VictoriaOverall', 'Multifamily_Average Net Rent_Overall_WinnipegOverall', 'Multifamily_Avg. Sale Price per Unit_Downtown _CalgaryOverall', 'Multifamily_Avg. Sale Price per Unit_Downtown _EdmontonOverall', 'Multifamily_Avg. Sale Price per Unit_Downtown _HalifaxOverall', 'Multifamily_Avg. Sale Price per Unit_Downtown _MontrealOverall', 'Multifamily_Avg. Sale Price per Unit_Downtown _National AverageOverall', 'Multifamily_Avg. Sale Price per Unit_Downtown _Ottawa-GatineauOverall', 'Multifamily_Avg. Sale Price per Unit_Downtown _Quebec CityOverall', 'Multifamily_Avg. Sale Price per Unit_Downtown _TorontoOverall', 'Multifamily_Avg. Sale Price per Unit_Downtown _VancouverOverall', 'Multifamily_Avg. Sale Price per Unit_Midtown_MontrealOverall', 'Multifamily_Avg. Sale Price per Unit_Overall_National AverageOverall', 'Multifamily_Avg. Sale Price per Unit_Suburban_CalgaryOverall', 'Multifamily_Avg. Sale Price per Unit_Suburban_EdmontonOverall', 'Multifamily_Avg. Sale Price per Unit_Suburban_HalifaxOverall', 'Multifamily_Avg. Sale Price per Unit_Suburban_MontrealOverall', 'Multifamily_Avg. Sale Price per Unit_Suburban_National AverageOverall', 'Multifamily_Avg. Sale Price per Unit_Suburban_Ottawa-GatineauOverall', 'Multifamily_Avg. Sale Price per Unit_Suburban_Quebec CityOverall', 'Multifamily_Avg. Sale Price per Unit_Suburban_TorontoOverall', 'Multifamily_Avg. Sale Price per Unit_Suburban_VancouverOverall', 'Multifamily_Cap Rate_Downtown _CalgaryOverall', 'Multifamily_Cap Rate_Downtown _EdmontonOverall', 'Multifamily_Cap Rate_Downtown _HalifaxOverall', 'Multifamily_Cap Rate_Downtown _MontrealOverall', 'Multifamily_Cap Rate_Downtown _National AverageOverall', 'Multifamily_Cap Rate_Downtown _Ottawa-GatineauOverall', 'Multifamily_Cap Rate_Downtown _Quebec CityOverall', 'Multifamily_Cap Rate_Downtown _TorontoOverall', 'Multifamily_Cap Rate_Downtown _VancouverOverall', 'Multifamily_Cap Rate_Midtown_MontrealOverall', 'Multifamily_Cap Rate_Overall_National AverageOverall', 'Multifamily_Cap Rate_Suburban_CalgaryOverall', 'Multifamily_Cap Rate_Suburban_EdmontonOverall', 'Multifamily_Cap Rate_Suburban_HalifaxOverall', 'Multifamily_Cap Rate_Suburban_MontrealOverall', 'Multifamily_Cap Rate_Suburban_National AverageOverall', 'Multifamily_Cap Rate_Suburban_Ottawa-GatineauOverall', 'Multifamily_Cap Rate_Suburban_Quebec CityOverall', 'Multifamily_Cap Rate_Suburban_TorontoOverall', 'Multifamily_Cap Rate_Suburban_VancouverOverall', 'Multifamily_IRR_Downtown _CalgaryOverall', 'Multifamily_IRR_Downtown _EdmontonOverall', 'Multifamily_IRR_Downtown _HalifaxOverall', 'Multifamily_IRR_Downtown _MontrealOverall', 'Multifamily_IRR_Downtown _National AverageOverall', 'Multifamily_IRR_Downtown _Ottawa-GatineauOverall', 'Multifamily_IRR_Downtown _Quebec CityOverall', 'Multifamily_IRR_Downtown _TorontoOverall', 'Multifamily_IRR_Downtown _VancouverOverall', 'Multifamily_IRR_Midtown_MontrealOverall', 'Multifamily_IRR_Overall_National AverageOverall', 'Multifamily_IRR_Suburban_CalgaryOverall', 'Multifamily_IRR_Suburban_EdmontonOverall', 'Multifamily_IRR_Suburban_HalifaxOverall', 'Multifamily_IRR_Suburban_MontrealOverall', 'Multifamily_IRR_Suburban_National AverageOverall', 'Multifamily_IRR_Suburban_Ottawa-GatineauOverall', 'Multifamily_IRR_Suburban_Quebec CityOverall', 'Multifamily_IRR_Suburban_TorontoOverall', 'Multifamily_IRR_Suburban_VancouverOverall', 'Multifamily_Terminal Cap Rate_Downtown _CalgaryOverall', 'Multifamily_Terminal Cap Rate_Downtown _EdmontonOverall', 'Multifamily_Terminal Cap Rate_Downtown _HalifaxOverall', 'Multifamily_Terminal Cap Rate_Downtown _MontrealOverall', 'Multifamily_Terminal Cap Rate_Downtown _National AverageOverall', 'Multifamily_Terminal Cap Rate_Downtown _Ottawa-GatineauOverall', 'Multifamily_Terminal Cap Rate_Downtown _Quebec CityOverall', 'Multifamily_Terminal Cap Rate_Downtown _TorontoOverall', 'Multifamily_Terminal Cap Rate_Downtown _VancouverOverall', 'Multifamily_Terminal Cap Rate_Midtown_MontrealOverall', 'Multifamily_Terminal Cap Rate_Overall_National AverageOverall', 'Multifamily_Terminal Cap Rate_Suburban_CalgaryOverall', 'Multifamily_Terminal Cap Rate_Suburban_EdmontonOverall', 'Multifamily_Terminal Cap Rate_Suburban_HalifaxOverall', 'Multifamily_Terminal Cap Rate_Suburban_MontrealOverall', 'Multifamily_Terminal Cap Rate_Suburban_National AverageOverall', 'Multifamily_Terminal Cap Rate_Suburban_Ottawa-GatineauOverall', 'Multifamily_Terminal Cap Rate_Suburban_Quebec CityOverall', 'Multifamily_Terminal Cap Rate_Suburban_TorontoOverall', 'Multifamily_Terminal Cap Rate_Suburban_VancouverOverall', 'Multifamily_Vacancy (%)_Overall_CalgaryOverall', 'Multifamily_Vacancy (%)_Overall_EdmontonOverall', 'Multifamily_Vacancy (%)_Overall_GatineauOverall', 'Multifamily_Vacancy (%)_Overall_HalifaxOverall', 'Multifamily_Vacancy (%)_Overall_HamiltonOverall', 'Multifamily_Vacancy (%)_Overall_Kelowna Overall', 'Multifamily_Vacancy (%)_Overall_Kitchener-Waterloo-CambridgeOverall', 'Multifamily_Vacancy (%)_Overall_LondonOverall', 'Multifamily_Vacancy (%)_Overall_MontrealOverall', 'Multifamily_Vacancy (%)_Overall_National AverageOverall', 'Multifamily_Vacancy (%)_Overall_Ottawa-GatineauOverall', 'Multifamily_Vacancy (%)_Overall_Quebec CityOverall', 'Multifamily_Vacancy (%)_Overall_ReginaOverall', 'Multifamily_Vacancy (%)_Overall_SaskatoonOverall', 'Multifamily_Vacancy (%)_Overall_TorontoOverall', 'Multifamily_Vacancy (%)_Overall_VancouverOverall', 'Multifamily_Vacancy (%)_Overall_VictoriaOverall', 'Multifamily_Vacancy (%)_Overall_WinnipegOverall', 'Office_Average Net Rent_Downtown _CalgaryAA', 'Office_Average Net Rent_Downtown _CalgaryOverall', 'Office_Average Net Rent_Downtown _EdmontonAA', 'Office_Average Net Rent_Downtown _EdmontonOverall', 'Office_Average Net Rent_Downtown _MontrealAA', 'Office_Average Net Rent_Downtown _MontrealOverall', 'Office_Average Net Rent_Downtown _National AverageAA', 'Office_Average Net Rent_Downtown _National AverageOverall', 'Office_Average Net Rent_Downtown _Ottawa-GatineauAA', 'Office_Average Net Rent_Downtown _Ottawa-GatineauOverall', 'Office_Average Net Rent_Downtown _TorontoAA', 'Office_Average Net Rent_Downtown _TorontoOverall', 'Office_Average Net Rent_Downtown _VancouverAA', 'Office_Average Net Rent_Downtown _VancouverOverall', 'Office_Average Net Rent_Overall_CalgaryOverall', 'Office_Average Net Rent_Overall_EdmontonOverall', 'Office_Average Net Rent_Overall_MontrealOverall', 'Office_Average Net Rent_Overall_National AverageOverall', 'Office_Average Net Rent_Overall_Ottawa-GatineauOverall', 'Office_Average Net Rent_Overall_TorontoOverall', 'Office_Average Net Rent_Overall_VancouverOverall', 'Office_Average Net Rent_Suburban_CalgaryOverall', 'Office_Average Net Rent_Suburban_EdmontonOverall', 'Office_Average Net Rent_Suburban_MontrealOverall', 'Office_Average Net Rent_Suburban_National AverageOverall', 'Office_Average Net Rent_Suburban_Ottawa-GatineauOverall', 'Office_Average Net Rent_Suburban_TorontoOverall', 'Office_Average Net Rent_Suburban_VancouverOverall', 'Office_Avg. Sale Price PSF_Downtown _CalgaryAA', 'Office_Avg. Sale Price PSF_Downtown _CalgaryB', 'Office_Avg. Sale Price PSF_Downtown _EdmontonAA', 'Office_Avg. Sale Price PSF_Downtown _EdmontonB', 'Office_Avg. Sale Price PSF_Downtown _HalifaxAA', 'Office_Avg. Sale Price PSF_Downtown _HalifaxB', 'Office_Avg. Sale Price PSF_Downtown _MontrealAA', 'Office_Avg. Sale Price PSF_Downtown _MontrealB', 'Office_Avg. Sale Price PSF_Downtown _National AverageAA', 'Office_Avg. Sale Price PSF_Downtown _National AverageB', 'Office_Avg. Sale Price PSF_Downtown _Ottawa-GatineauAA', 'Office_Avg. Sale Price PSF_Downtown _Ottawa-GatineauB', 'Office_Avg. Sale Price PSF_Downtown _Quebec CityAA', 'Office_Avg. Sale Price PSF_Downtown _Quebec CityB', 'Office_Avg. Sale Price PSF_Downtown _TorontoAA', 'Office_Avg. Sale Price PSF_Downtown _TorontoB', 'Office_Avg. Sale Price PSF_Downtown _VancouverAA', 'Office_Avg. Sale Price PSF_Downtown _VancouverB', 'Office_Avg. Sale Price PSF_Midtown_MontrealA', 'Office_Avg. Sale Price PSF_Overall_National AverageOverall', 'Office_Avg. Sale Price PSF_Suburban_CalgaryA', 'Office_Avg. Sale Price PSF_Suburban_CalgaryB', 'Office_Avg. Sale Price PSF_Suburban_EdmontonA', 'Office_Avg. Sale Price PSF_Suburban_EdmontonB', 'Office_Avg. Sale Price PSF_Suburban_HalifaxA', 'Office_Avg. Sale Price PSF_Suburban_HalifaxB', 'Office_Avg. Sale Price PSF_Suburban_MontrealA', 'Office_Avg. Sale Price PSF_Suburban_MontrealB', 'Office_Avg. Sale Price PSF_Suburban_National AverageA', 'Office_Avg. Sale Price PSF_Suburban_National AverageB', 'Office_Avg. Sale Price PSF_Suburban_Ottawa-GatineauA', 'Office_Avg. Sale Price PSF_Suburban_Ottawa-GatineauB', 'Office_Avg. Sale Price PSF_Suburban_Quebec CityA', 'Office_Avg. Sale Price PSF_Suburban_Quebec CityB', 'Office_Avg. Sale Price PSF_Suburban_TorontoA', 'Office_Avg. Sale Price PSF_Suburban_TorontoB', 'Office_Avg. Sale Price PSF_Suburban_VancouverA', 'Office_Avg. Sale Price PSF_Suburban_VancouverB', 'Office_Cap Rate_Downtown _CalgaryAA', 'Office_Cap Rate_Downtown _CalgaryB', 'Office_Cap Rate_Downtown _EdmontonAA', 'Office_Cap Rate_Downtown _EdmontonB', 'Office_Cap Rate_Downtown _HalifaxAA', 'Office_Cap Rate_Downtown _HalifaxB', 'Office_Cap Rate_Downtown _MontrealAA', 'Office_Cap Rate_Downtown _MontrealB', 'Office_Cap Rate_Downtown _National AverageAA', 'Office_Cap Rate_Downtown _National AverageB', 'Office_Cap Rate_Downtown _Ottawa-GatineauAA', 'Office_Cap Rate_Downtown _Ottawa-GatineauB', 'Office_Cap Rate_Downtown _Quebec CityAA', 'Office_Cap Rate_Downtown _Quebec CityB', 'Office_Cap Rate_Downtown _TorontoAA', 'Office_Cap Rate_Downtown _TorontoB', 'Office_Cap Rate_Downtown _VancouverAA', 'Office_Cap Rate_Downtown _VancouverB', 'Office_Cap Rate_Midtown_MontrealA', 'Office_Cap Rate_Overall_National AverageOverall', 'Office_Cap Rate_Suburban_CalgaryA', 'Office_Cap Rate_Suburban_CalgaryB', 'Office_Cap Rate_Suburban_EdmontonA', 'Office_Cap Rate_Suburban_EdmontonB', 'Office_Cap Rate_Suburban_HalifaxA', 'Office_Cap Rate_Suburban_HalifaxB', 'Office_Cap Rate_Suburban_MontrealA', 'Office_Cap Rate_Suburban_MontrealB', 'Office_Cap Rate_Suburban_National AverageA', 'Office_Cap Rate_Suburban_National AverageB', 'Office_Cap Rate_Suburban_Ottawa-GatineauA', 'Office_Cap Rate_Suburban_Ottawa-GatineauB', 'Office_Cap Rate_Suburban_Quebec CityA', 'Office_Cap Rate_Suburban_Quebec CityB', 'Office_Cap Rate_Suburban_TorontoA', 'Office_Cap Rate_Suburban_TorontoB', 'Office_Cap Rate_Suburban_VancouverA', 'Office_Cap Rate_Suburban_VancouverB', 'Office_Contruction Completions (s.f.)_Downtown_CalgaryAA', 'Office_Contruction Completions (s.f.)_Downtown_CalgaryOverall', 'Office_Contruction Completions (s.f.)_Downtown_EdmontonAA', 'Office_Contruction Completions (s.f.)_Downtown_EdmontonOverall', 'Office_Contruction Completions (s.f.)_Downtown_MontrealAA', 'Office_Contruction Completions (s.f.)_Downtown_MontrealOverall', 'Office_Contruction Completions (s.f.)_Downtown_National AverageAA', 'Office_Contruction Completions (s.f.)_Downtown_National AverageOverall', 'Office_Contruction Completions (s.f.)_Downtown_Ottawa-GatineauAA', 'Office_Contruction Completions (s.f.)_Downtown_Ottawa-GatineauOverall', 'Office_Contruction Completions (s.f.)_Downtown_TorontoAA', 'Office_Contruction Completions (s.f.)_Downtown_TorontoOverall', 'Office_Contruction Completions (s.f.)_Downtown_VancouverAA', 'Office_Contruction Completions (s.f.)_Downtown_VancouverOverall', 'Office_Contruction Completions (s.f.)_Overall_CalgaryOverall', 'Office_Contruction Completions (s.f.)_Overall_EdmontonOverall', 'Office_Contruction Completions (s.f.)_Overall_MontrealOverall', 'Office_Contruction Completions (s.f.)_Overall_National AverageOverall', 'Office_Contruction Completions (s.f.)_Overall_Ottawa-GatineauOverall', 'Office_Contruction Completions (s.f.)_Overall_TorontoOverall', 'Office_Contruction Completions (s.f.)_Overall_VancouverOverall', 'Office_Contruction Completions (s.f.)_Suburban_CalgarySuburban', 'Office_Contruction Completions (s.f.)_Suburban_EdmontonSuburban', 'Office_Contruction Completions (s.f.)_Suburban_MontrealSuburban', 'Office_Contruction Completions (s.f.)_Suburban_National AverageSuburban', 'Office_Contruction Completions (s.f.)_Suburban_Ottawa-GatineauSuburban', 'Office_Contruction Completions (s.f.)_Suburban_TorontoSuburban', 'Office_Contruction Completions (s.f.)_Suburban_VancouverSuburban', 'Office_IRR_Downtown _CalgaryAA', 'Office_IRR_Downtown _CalgaryB', 'Office_IRR_Downtown _EdmontonAA', 'Office_IRR_Downtown _EdmontonB', 'Office_IRR_Downtown _HalifaxAA', 'Office_IRR_Downtown _HalifaxB', 'Office_IRR_Downtown _MontrealAA', 'Office_IRR_Downtown _MontrealB', 'Office_IRR_Downtown _National AverageAA', 'Office_IRR_Downtown _National AverageB', 'Office_IRR_Downtown _Ottawa-GatineauAA', 'Office_IRR_Downtown _Ottawa-GatineauB', 'Office_IRR_Downtown _Quebec CityAA', 'Office_IRR_Downtown _Quebec CityB', 'Office_IRR_Downtown _TorontoAA', 'Office_IRR_Downtown _TorontoB', 'Office_IRR_Downtown _VancouverAA', 'Office_IRR_Downtown _VancouverB', 'Office_IRR_Midtown_MontrealA', 'Office_IRR_Suburban_CalgaryA', 'Office_IRR_Suburban_CalgaryB', 'Office_IRR_Suburban_EdmontonA', 'Office_IRR_Suburban_EdmontonB', 'Office_IRR_Suburban_HalifaxA', 'Office_IRR_Suburban_HalifaxB', 'Office_IRR_Suburban_MontrealA', 'Office_IRR_Suburban_MontrealB', 'Office_IRR_Suburban_National AverageA', 'Office_IRR_Suburban_National AverageB', 'Office_IRR_Suburban_National AverageOverall', 'Office_IRR_Suburban_Ottawa-GatineauA', 'Office_IRR_Suburban_Ottawa-GatineauB', 'Office_IRR_Suburban_Quebec CityA', 'Office_IRR_Suburban_Quebec CityB', 'Office_IRR_Suburban_TorontoA', 'Office_IRR_Suburban_TorontoB', 'Office_IRR_Suburban_VancouverA', 'Office_IRR_Suburban_VancouverB', 'Office_Inventory (s.f.)_Downtown_CalgaryAA', 'Office_Inventory (s.f.)_Downtown_CalgaryOverall', 'Office_Inventory (s.f.)_Downtown_EdmontonAA', 'Office_Inventory (s.f.)_Downtown_EdmontonOverall', 'Office_Inventory (s.f.)_Downtown_MontrealAA', 'Office_Inventory (s.f.)_Downtown_MontrealOverall', 'Office_Inventory (s.f.)_Downtown_National AverageAA', 'Office_Inventory (s.f.)_Downtown_National AverageOverall', 'Office_Inventory (s.f.)_Downtown_Ottawa-GatineauAA', 'Office_Inventory (s.f.)_Downtown_Ottawa-GatineauOverall', 'Office_Inventory (s.f.)_Downtown_TorontoAA', 'Office_Inventory (s.f.)_Downtown_TorontoOverall', 'Office_Inventory (s.f.)_Downtown_VancouverAA', 'Office_Inventory (s.f.)_Downtown_VancouverOverall', 'Office_Inventory (s.f.)_Overall_CalgaryOverall', 'Office_Inventory (s.f.)_Overall_EdmontonOverall', 'Office_Inventory (s.f.)_Overall_MontrealOverall', 'Office_Inventory (s.f.)_Overall_National AverageOverall', 'Office_Inventory (s.f.)_Overall_Ottawa-GatineauOverall', 'Office_Inventory (s.f.)_Overall_TorontoOverall', 'Office_Inventory (s.f.)_Overall_VancouverOverall', 'Office_Inventory (s.f.)_Suburban_CalgarySuburban', 'Office_Inventory (s.f.)_Suburban_EdmontonSuburban', 'Office_Inventory (s.f.)_Suburban_MontrealSuburban', 'Office_Inventory (s.f.)_Suburban_National AverageSuburban', 'Office_Inventory (s.f.)_Suburban_Ottawa-GatineauSuburban', 'Office_Inventory (s.f.)_Suburban_TorontoSuburban', 'Office_Inventory (s.f.)_Suburban_VancouverSuburban', 'Office_Net Absorption (s.f.)_Downtown_CalgaryAA', 'Office_Net Absorption (s.f.)_Downtown_CalgaryOverall', 'Office_Net Absorption (s.f.)_Downtown_EdmontonAA', 'Office_Net Absorption (s.f.)_Downtown_EdmontonOverall', 'Office_Net Absorption (s.f.)_Downtown_MontrealAA', 'Office_Net Absorption (s.f.)_Downtown_MontrealOverall', 'Office_Net Absorption (s.f.)_Downtown_National AverageAA', 'Office_Net Absorption (s.f.)_Downtown_National AverageOverall', 'Office_Net Absorption (s.f.)_Downtown_Ottawa-GatineauAA', 'Office_Net Absorption (s.f.)_Downtown_Ottawa-GatineauOverall', 'Office_Net Absorption (s.f.)_Downtown_TorontoAA', 'Office_Net Absorption (s.f.)_Downtown_TorontoOverall', 'Office_Net Absorption (s.f.)_Downtown_VancouverAA', 'Office_Net Absorption (s.f.)_Downtown_VancouverOverall', 'Office_Net Absorption (s.f.)_Overall_CalgaryOverall', 'Office_Net Absorption (s.f.)_Overall_EdmontonOverall', 'Office_Net Absorption (s.f.)_Overall_MontrealOverall', 'Office_Net Absorption (s.f.)_Overall_National AverageOverall', 'Office_Net Absorption (s.f.)_Overall_Ottawa-GatineauOverall', 'Office_Net Absorption (s.f.)_Overall_TorontoOverall', 'Office_Net Absorption (s.f.)_Overall_VancouverOverall', 'Office_Net Absorption (s.f.)_Suburban_CalgarySuburban', 'Office_Net Absorption (s.f.)_Suburban_EdmontonSuburban', 'Office_Net Absorption (s.f.)_Suburban_MontrealSuburban', 'Office_Net Absorption (s.f.)_Suburban_National AverageSuburban', 'Office_Net Absorption (s.f.)_Suburban_Ottawa-GatineauSuburban', 'Office_Net Absorption (s.f.)_Suburban_TorontoSuburban', 'Office_Net Absorption (s.f.)_Suburban_VancouverSuburban', 'Office_Sublease Vacancy (s.f.)_Downtown_CalgaryAA', 'Office_Sublease Vacancy (s.f.)_Downtown_CalgaryOverall', 'Office_Sublease Vacancy (s.f.)_Downtown_EdmontonAA', 'Office_Sublease Vacancy (s.f.)_Downtown_EdmontonOverall', 'Office_Sublease Vacancy (s.f.)_Downtown_MontrealAA', 'Office_Sublease Vacancy (s.f.)_Downtown_MontrealOverall', 'Office_Sublease Vacancy (s.f.)_Downtown_NationalAA', 'Office_Sublease Vacancy (s.f.)_Downtown_NationalOverall', 'Office_Sublease Vacancy (s.f.)_Downtown_OttawaAA', 'Office_Sublease Vacancy (s.f.)_Downtown_OttawaOverall', 'Office_Sublease Vacancy (s.f.)_Downtown_TorontoAA', 'Office_Sublease Vacancy (s.f.)_Downtown_TorontoOverall', 'Office_Sublease Vacancy (s.f.)_Downtown_VancouverAA', 'Office_Sublease Vacancy (s.f.)_Downtown_VancouverOverall', 'Office_Sublease Vacancy (s.f.)_Overall_CalgaryOverall', 'Office_Sublease Vacancy (s.f.)_Overall_EdmontonOverall', 'Office_Sublease Vacancy (s.f.)_Overall_MontrealOverall', 'Office_Sublease Vacancy (s.f.)_Overall_NationalOverall', 'Office_Sublease Vacancy (s.f.)_Overall_OttawaOverall', 'Office_Sublease Vacancy (s.f.)_Overall_TorontoOverall', 'Office_Sublease Vacancy (s.f.)_Overall_VancouverOverall', 'Office_Sublease Vacancy (s.f.)_Suburban_CalgarySuburban', 'Office_Sublease Vacancy (s.f.)_Suburban_EdmontonSuburban', 'Office_Sublease Vacancy (s.f.)_Suburban_MontrealSuburban', 'Office_Sublease Vacancy (s.f.)_Suburban_NationalSuburban', 'Office_Sublease Vacancy (s.f.)_Suburban_OttawaSuburban', 'Office_Sublease Vacancy (s.f.)_Suburban_TorontoSuburban', 'Office_Sublease Vacancy (s.f.)_Suburban_VancouverSuburban', 'Office_Terminal Cap Rate_Downtown _CalgaryAA', 'Office_Terminal Cap Rate_Downtown _CalgaryB', 'Office_Terminal Cap Rate_Downtown _EdmontonAA', 'Office_Terminal Cap Rate_Downtown _EdmontonB', 'Office_Terminal Cap Rate_Downtown _HalifaxAA', 'Office_Terminal Cap Rate_Downtown _HalifaxB', 'Office_Terminal Cap Rate_Downtown _MontrealAA', 'Office_Terminal Cap Rate_Downtown _MontrealB', 'Office_Terminal Cap Rate_Downtown _National AverageAA', 'Office_Terminal Cap Rate_Downtown _National AverageB', 'Office_Terminal Cap Rate_Downtown _Ottawa-GatineauAA', 'Office_Terminal Cap Rate_Downtown _Ottawa-GatineauB', 'Office_Terminal Cap Rate_Downtown _Quebec CityAA', 'Office_Terminal Cap Rate_Downtown _Quebec CityB', 'Office_Terminal Cap Rate_Downtown _TorontoAA', 'Office_Terminal Cap Rate_Downtown _TorontoB', 'Office_Terminal Cap Rate_Downtown _VancouverAA', 'Office_Terminal Cap Rate_Downtown _VancouverB', 'Office_Terminal Cap Rate_Midtown_MontrealA', 'Office_Terminal Cap Rate_Overall_National AverageOverall', 'Office_Terminal Cap Rate_Suburban_CalgaryA', 'Office_Terminal Cap Rate_Suburban_CalgaryB', 'Office_Terminal Cap Rate_Suburban_EdmontonA', 'Office_Terminal Cap Rate_Suburban_EdmontonB', 'Office_Terminal Cap Rate_Suburban_HalifaxA', 'Office_Terminal Cap Rate_Suburban_HalifaxB', 'Office_Terminal Cap Rate_Suburban_MontrealA', 'Office_Terminal Cap Rate_Suburban_MontrealB', 'Office_Terminal Cap Rate_Suburban_National AverageA', 'Office_Terminal Cap Rate_Suburban_National AverageB', 'Office_Terminal Cap Rate_Suburban_Ottawa-GatineauA', 'Office_Terminal Cap Rate_Suburban_Ottawa-GatineauB', 'Office_Terminal Cap Rate_Suburban_Quebec CityA', 'Office_Terminal Cap Rate_Suburban_Quebec CityB', 'Office_Terminal Cap Rate_Suburban_TorontoA', 'Office_Terminal Cap Rate_Suburban_TorontoB', 'Office_Terminal Cap Rate_Suburban_VancouverA', 'Office_Terminal Cap Rate_Suburban_VancouverB', 'Office_Total Vacancy (s.f.)_Downtown_CalgaryAA', 'Office_Total Vacancy (s.f.)_Downtown_CalgaryOverall', 'Office_Total Vacancy (s.f.)_Downtown_EdmontonAA', 'Office_Total Vacancy (s.f.)_Downtown_EdmontonOverall', 'Office_Total Vacancy (s.f.)_Downtown_MontrealAA', 'Office_Total Vacancy (s.f.)_Downtown_MontrealOverall', 'Office_Total Vacancy (s.f.)_Downtown_National AverageAA', 'Office_Total Vacancy (s.f.)_Downtown_National AverageOverall', 'Office_Total Vacancy (s.f.)_Downtown_Ottawa-GatineauAA', 'Office_Total Vacancy (s.f.)_Downtown_Ottawa-GatineauOverall', 'Office_Total Vacancy (s.f.)_Downtown_TorontoAA', 'Office_Total Vacancy (s.f.)_Downtown_TorontoOverall', 'Office_Total Vacancy (s.f.)_Downtown_VancouverAA', 'Office_Total Vacancy (s.f.)_Downtown_VancouverOverall', 'Office_Total Vacancy (s.f.)_Overall_CalgaryOverall', 'Office_Total Vacancy (s.f.)_Overall_EdmontonOverall', 'Office_Total Vacancy (s.f.)_Overall_MontrealOverall', 'Office_Total Vacancy (s.f.)_Overall_National AverageOverall', 'Office_Total Vacancy (s.f.)_Overall_Ottawa-GatineauOverall', 'Office_Total Vacancy (s.f.)_Overall_TorontoOverall', 'Office_Total Vacancy (s.f.)_Overall_VancouverOverall', 'Office_Total Vacancy (s.f.)_Suburban_CalgarySuburban', 'Office_Total Vacancy (s.f.)_Suburban_EdmontonSuburban', 'Office_Total Vacancy (s.f.)_Suburban_MontrealSuburban', 'Office_Total Vacancy (s.f.)_Suburban_National AverageSuburban', 'Office_Total Vacancy (s.f.)_Suburban_Ottawa-GatineauSuburban', 'Office_Total Vacancy (s.f.)_Suburban_TorontoSuburban', 'Office_Total Vacancy (s.f.)_Suburban_VancouverSuburban', 'Office_Under Construction (s.f.)_Downtown_CalgaryAA', 'Office_Under Construction (s.f.)_Downtown_CalgaryOverall', 'Office_Under Construction (s.f.)_Downtown_EdmontonAA', 'Office_Under Construction (s.f.)_Downtown_EdmontonOverall', 'Office_Under Construction (s.f.)_Downtown_MontrealAA', 'Office_Under Construction (s.f.)_Downtown_MontrealOverall', 'Office_Under Construction (s.f.)_Downtown_National AverageAA', 'Office_Under Construction (s.f.)_Downtown_National AverageOverall', 'Office_Under Construction (s.f.)_Downtown_Ottawa-GatineauAA', 'Office_Under Construction (s.f.)_Downtown_Ottawa-GatineauOverall', 'Office_Under Construction (s.f.)_Downtown_TorontoAA', 'Office_Under Construction (s.f.)_Downtown_TorontoOverall', 'Office_Under Construction (s.f.)_Downtown_VancouverAA', 'Office_Under Construction (s.f.)_Downtown_VancouverOverall', 'Office_Under Construction (s.f.)_Overall_CalgaryOverall', 'Office_Under Construction (s.f.)_Overall_EdmontonOverall', 'Office_Under Construction (s.f.)_Overall_MontrealOverall', 'Office_Under Construction (s.f.)_Overall_National AverageOverall', 'Office_Under Construction (s.f.)_Overall_Ottawa-GatineauOverall', 'Office_Under Construction (s.f.)_Overall_TorontoOverall', 'Office_Under Construction (s.f.)_Overall_VancouverOverall', 'Office_Under Construction (s.f.)_Suburban_CalgarySuburban', 'Office_Under Construction (s.f.)_Suburban_EdmontonSuburban', 'Office_Under Construction (s.f.)_Suburban_MontrealSuburban', 'Office_Under Construction (s.f.)_Suburban_National AverageSuburban', 'Office_Under Construction (s.f.)_Suburban_Ottawa-GatineauSuburban', 'Office_Under Construction (s.f.)_Suburban_TorontoSuburban', 'Office_Under Construction (s.f.)_Suburban_VancouverSuburban', 'Office_Vacancy (%)_Downtown _CalgaryAA', 'Office_Vacancy (%)_Downtown _CalgaryOverall', 'Office_Vacancy (%)_Downtown _EdmontonAA', 'Office_Vacancy (%)_Downtown _EdmontonOverall', 'Office_Vacancy (%)_Downtown _MontrealAA', 'Office_Vacancy (%)_Downtown _MontrealOverall', 'Office_Vacancy (%)_Downtown _National AverageAA', 'Office_Vacancy (%)_Downtown _National AverageOverall', 'Office_Vacancy (%)_Downtown _Ottawa-GatineauAA', 'Office_Vacancy (%)_Downtown _Ottawa-GatineauOverall', 'Office_Vacancy (%)_Downtown _TorontoAA', 'Office_Vacancy (%)_Downtown _TorontoOverall', 'Office_Vacancy (%)_Downtown _VancouverAA', 'Office_Vacancy (%)_Downtown _VancouverOverall', 'Office_Vacancy (%)_Overall_CalgaryOverall', 'Office_Vacancy (%)_Overall_EdmontonOverall', 'Office_Vacancy (%)_Overall_MontrealOverall', 'Office_Vacancy (%)_Overall_National AverageOverall', 'Office_Vacancy (%)_Overall_Ottawa-GatineauOverall', 'Office_Vacancy (%)_Overall_TorontoOverall', 'Office_Vacancy (%)_Overall_VancouverOverall', 'Office_Vacancy (%)_Suburban_CalgaryOverall', 'Office_Vacancy (%)_Suburban_EdmontonOverall', 'Office_Vacancy (%)_Suburban_MontrealOverall', 'Office_Vacancy (%)_Suburban_National AverageOverall', 'Office_Vacancy (%)_Suburban_Ottawa-GatineauOverall', 'Office_Vacancy (%)_Suburban_TorontoOverall', 'Office_Vacancy (%)_Suburban_VancouverOverall', 'Retail_Cap Rate_All Retail_CalgaryOverall', 'Retail_Cap Rate_All Retail_EdmontonOverall', 'Retail_Cap Rate_All Retail_HalifaxOverall', 'Retail_Cap Rate_All Retail_MontrealOverall', 'Retail_Cap Rate_All Retail_Ottawa-GatineauOverall', 'Retail_Cap Rate_All Retail_Quebec CityOverall', 'Retail_Cap Rate_All Retail_TorontoOverall', 'Retail_Cap Rate_All Retail_VancouverOverall', 'Retail_Cap Rate_Grocery Anchored Strip _CalgaryOverall', 'Retail_Cap Rate_Grocery Anchored Strip _EdmontonOverall', 'Retail_Cap Rate_Grocery Anchored Strip _HalifaxOverall', 'Retail_Cap Rate_Grocery Anchored Strip _MontrealOverall', 'Retail_Cap Rate_Grocery Anchored Strip _National AverageOverall', 'Retail_Cap Rate_Grocery Anchored Strip _Ottawa-GatineauOverall', 'Retail_Cap Rate_Grocery Anchored Strip _Quebec CityOverall', 'Retail_Cap Rate_Grocery Anchored Strip _TorontoOverall', 'Retail_Cap Rate_Grocery Anchored Strip _VancouverOverall', 'Retail_Cap Rate_Overall_National AverageOverall', 'Retail_Cap Rate_Power Centre_CalgaryOverall', 'Retail_Cap Rate_Power Centre_EdmontonOverall', 'Retail_Cap Rate_Power Centre_HalifaxOverall', 'Retail_Cap Rate_Power Centre_MontrealOverall', 'Retail_Cap Rate_Power Centre_National AverageOverall', 'Retail_Cap Rate_Power Centre_Ottawa-GatineauOverall', 'Retail_Cap Rate_Power Centre_Quebec CityOverall', 'Retail_Cap Rate_Power Centre_TorontoOverall', 'Retail_Cap Rate_Power Centre_VancouverOverall', 'Retail_Cap Rate_Single Tenant Retail_CalgaryOverall', 'Retail_Cap Rate_Single Tenant Retail_EdmontonOverall', 'Retail_Cap Rate_Single Tenant Retail_HalifaxOverall', 'Retail_Cap Rate_Single Tenant Retail_MontrealOverall', 'Retail_Cap Rate_Single Tenant Retail_National AverageOverall', 'Retail_Cap Rate_Single Tenant Retail_Ottawa-GatineauOverall', 'Retail_Cap Rate_Single Tenant Retail_Quebec CityOverall', 'Retail_Cap Rate_Single Tenant Retail_TorontoOverall', 'Retail_Cap Rate_Single Tenant Retail_VancouverOverall', 'Retail_Cap Rate_Strip Centre_CalgaryOverall', 'Retail_Cap Rate_Strip Centre_EdmontonOverall', 'Retail_Cap Rate_Strip Centre_HalifaxOverall', 'Retail_Cap Rate_Strip Centre_MontrealOverall', 'Retail_Cap Rate_Strip Centre_National AverageOverall', 'Retail_Cap Rate_Strip Centre_Ottawa-GatineauOverall', 'Retail_Cap Rate_Strip Centre_Quebec CityOverall', 'Retail_Cap Rate_Strip Centre_TorontoOverall', 'Retail_Cap Rate_Strip Centre_VancouverOverall', 'Retail_Cap Rate_Tier 1 Regional Mall_CalgaryOverall', 'Retail_Cap Rate_Tier 1 Regional Mall_EdmontonOverall', 'Retail_Cap Rate_Tier 1 Regional Mall_HalifaxOverall', 'Retail_Cap Rate_Tier 1 Regional Mall_MontrealOverall', 'Retail_Cap Rate_Tier 1 Regional Mall_National AverageOverall', 'Retail_Cap Rate_Tier 1 Regional Mall_Ottawa-GatineauOverall', 'Retail_Cap Rate_Tier 1 Regional Mall_Quebec CityOverall', 'Retail_Cap Rate_Tier 1 Regional Mall_TorontoOverall', 'Retail_Cap Rate_Tier 1 Regional Mall_VancouverOverall', 'Retail_Cap Rate_Tier 2 Regional Mall_EdmontonOverall', 'Retail_Cap Rate_Tier 2 Regional Mall_HalifaxOverall', 'Retail_Cap Rate_Tier 2 Regional Mall_MontrealOverall', 'Retail_Cap Rate_Tier 2 Regional Mall_National AverageOverall', 'Retail_Cap Rate_Tier 2 Regional Mall_Ottawa-GatineauOverall', 'Retail_Cap Rate_Tier 2 Regional Mall_Quebec CityOverall', 'Retail_Cap Rate_Tier 2 Regional Mall_TorontoOverall', 'Retail_Cap Rate_Tier 2 Regional Mall_VancouverOverall', 'Retail_Cap Rate_Tier 2 Regional Mall_WinnipegOverall', 'Retail_IRR_Grocery Anchored Strip _CalgaryOverall', 'Retail_IRR_Grocery Anchored Strip _EdmontonOverall', 'Retail_IRR_Grocery Anchored Strip _HalifaxOverall', 'Retail_IRR_Grocery Anchored Strip _MontrealOverall', 'Retail_IRR_Grocery Anchored Strip _National AverageOverall', 'Retail_IRR_Grocery Anchored Strip _Ottawa-GatineauOverall', 'Retail_IRR_Grocery Anchored Strip _Quebec CityOverall', 'Retail_IRR_Grocery Anchored Strip _TorontoOverall', 'Retail_IRR_Grocery Anchored Strip _VancouverOverall', 'Retail_IRR_Overall_National AverageOverall', 'Retail_IRR_Power Centre_CalgaryOverall', 'Retail_IRR_Power Centre_EdmontonOverall', 'Retail_IRR_Power Centre_HalifaxOverall', 'Retail_IRR_Power Centre_MontrealOverall', 'Retail_IRR_Power Centre_National AverageOverall', 'Retail_IRR_Power Centre_Ottawa-GatineauOverall', 'Retail_IRR_Power Centre_Quebec CityOverall', 'Retail_IRR_Power Centre_TorontoOverall', 'Retail_IRR_Power Centre_VancouverOverall', 'Retail_IRR_Single Tenant Retail_CalgaryOverall', 'Retail_IRR_Single Tenant Retail_EdmontonOverall', 'Retail_IRR_Single Tenant Retail_HalifaxOverall', 'Retail_IRR_Single Tenant Retail_MontrealOverall', 'Retail_IRR_Single Tenant Retail_National AverageOverall', 'Retail_IRR_Single Tenant Retail_Ottawa-GatineauOverall', 'Retail_IRR_Single Tenant Retail_Quebec CityOverall', 'Retail_IRR_Single Tenant Retail_TorontoOverall', 'Retail_IRR_Single Tenant Retail_VancouverOverall', 'Retail_IRR_Strip Centre_CalgaryOverall', 'Retail_IRR_Strip Centre_EdmontonOverall', 'Retail_IRR_Strip Centre_HalifaxOverall', 'Retail_IRR_Strip Centre_MontrealOverall', 'Retail_IRR_Strip Centre_National AverageOverall', 'Retail_IRR_Strip Centre_Ottawa-GatineauOverall', 'Retail_IRR_Strip Centre_Quebec CityOverall', 'Retail_IRR_Strip Centre_TorontoOverall', 'Retail_IRR_Strip Centre_VancouverOverall', 'Retail_IRR_Tier 1 Regional Mall_CalgaryOverall', 'Retail_IRR_Tier 1 Regional Mall_EdmontonOverall', 'Retail_IRR_Tier 1 Regional Mall_HalifaxOverall', 'Retail_IRR_Tier 1 Regional Mall_MontrealOverall', 'Retail_IRR_Tier 1 Regional Mall_National AverageOverall', 'Retail_IRR_Tier 1 Regional Mall_Ottawa-GatineauOverall', 'Retail_IRR_Tier 1 Regional Mall_Quebec CityOverall', 'Retail_IRR_Tier 1 Regional Mall_TorontoOverall', 'Retail_IRR_Tier 1 Regional Mall_VancouverOverall', 'Retail_IRR_Tier 2 Regional Mall_EdmontonOverall', 'Retail_IRR_Tier 2 Regional Mall_HalifaxOverall', 'Retail_IRR_Tier 2 Regional Mall_MontrealOverall', 'Retail_IRR_Tier 2 Regional Mall_National AverageOverall', 'Retail_IRR_Tier 2 Regional Mall_Ottawa-GatineauOverall', 'Retail_IRR_Tier 2 Regional Mall_Quebec CityOverall', 'Retail_IRR_Tier 2 Regional Mall_TorontoOverall', 'Retail_IRR_Tier 2 Regional Mall_VancouverOverall', 'Retail_IRR_Tier 2 Regional Mall_WinnipegOverall', 'Retail_Terminal Cap Rate_Grocery Anchored Strip _CalgaryOverall', 'Retail_Terminal Cap Rate_Grocery Anchored Strip _EdmontonOverall', 'Retail_Terminal Cap Rate_Grocery Anchored Strip _HalifaxOverall', 'Retail_Terminal Cap Rate_Grocery Anchored Strip _MontrealOverall', 'Retail_Terminal Cap Rate_Grocery Anchored Strip _National AverageOverall', 'Retail_Terminal Cap Rate_Grocery Anchored Strip _Ottawa-GatineauOverall', 'Retail_Terminal Cap Rate_Grocery Anchored Strip _Quebec CityOverall', 'Retail_Terminal Cap Rate_Grocery Anchored Strip _TorontoOverall', 'Retail_Terminal Cap Rate_Grocery Anchored Strip _VancouverOverall', 'Retail_Terminal Cap Rate_Power Centre_CalgaryOverall', 'Retail_Terminal Cap Rate_Power Centre_EdmontonOverall', 'Retail_Terminal Cap Rate_Power Centre_HalifaxOverall', 'Retail_Terminal Cap Rate_Power Centre_MontrealOverall', 'Retail_Terminal Cap Rate_Power Centre_National AverageOverall', 'Retail_Terminal Cap Rate_Power Centre_Ottawa-GatineauOverall', 'Retail_Terminal Cap Rate_Power Centre_Quebec CityOverall', 'Retail_Terminal Cap Rate_Power Centre_TorontoOverall', 'Retail_Terminal Cap Rate_Power Centre_VancouverOverall', 'Retail_Terminal Cap Rate_Single Tenant Retail_CalgaryOverall', 'Retail_Terminal Cap Rate_Single Tenant Retail_EdmontonOverall', 'Retail_Terminal Cap Rate_Single Tenant Retail_HalifaxOverall', 'Retail_Terminal Cap Rate_Single Tenant Retail_MontrealOverall', 'Retail_Terminal Cap Rate_Single Tenant Retail_National AverageOverall', 'Retail_Terminal Cap Rate_Single Tenant Retail_Ottawa-GatineauOverall', 'Retail_Terminal Cap Rate_Single Tenant Retail_Quebec CityOverall', 'Retail_Terminal Cap Rate_Single Tenant Retail_TorontoOverall', 'Retail_Terminal Cap Rate_Single Tenant Retail_VancouverOverall', 'Retail_Terminal Cap Rate_Strip Centre_CalgaryOverall', 'Retail_Terminal Cap Rate_Strip Centre_EdmontonOverall', 'Retail_Terminal Cap Rate_Strip Centre_HalifaxOverall', 'Retail_Terminal Cap Rate_Strip Centre_MontrealOverall', 'Retail_Terminal Cap Rate_Strip Centre_National AverageOverall', 'Retail_Terminal Cap Rate_Strip Centre_Ottawa-GatineauOverall', 'Retail_Terminal Cap Rate_Strip Centre_Quebec CityOverall', 'Retail_Terminal Cap Rate_Strip Centre_TorontoOverall', 'Retail_Terminal Cap Rate_Strip Centre_VancouverOverall', 'Retail_Terminal Cap Rate_Tier 1 Regional Mall_CalgaryOverall', 'Retail_Terminal Cap Rate_Tier 1 Regional Mall_EdmontonOverall', 'Retail_Terminal Cap Rate_Tier 1 Regional Mall_HalifaxOverall', 'Retail_Terminal Cap Rate_Tier 1 Regional Mall_MontrealOverall', 'Retail_Terminal Cap Rate_Tier 1 Regional Mall_National AverageOverall', 'Retail_Terminal Cap Rate_Tier 1 Regional Mall_Ottawa-GatineauOverall', 'Retail_Terminal Cap Rate_Tier 1 Regional Mall_Quebec CityOverall', 'Retail_Terminal Cap Rate_Tier 1 Regional Mall_TorontoOverall', 'Retail_Terminal Cap Rate_Tier 1 Regional Mall_VancouverOverall', 'Retail_Terminal Cap Rate_Tier 2 Regional Mall_EdmontonOverall', 'Retail_Terminal Cap Rate_Tier 2 Regional Mall_HalifaxOverall', 'Retail_Terminal Cap Rate_Tier 2 Regional Mall_MontrealOverall', 'Retail_Terminal Cap Rate_Tier 2 Regional Mall_National AverageOverall', 'Retail_Terminal Cap Rate_Tier 2 Regional Mall_Ottawa-GatineauOverall', 'Retail_Terminal Cap Rate_Tier 2 Regional Mall_Quebec CityOverall', 'Retail_Terminal Cap Rate_Tier 2 Regional Mall_TorontoOverall', 'Retail_Terminal Cap Rate_Tier 2 Regional Mall_VancouverOverall', 'Retail_Terminal Cap Rate_Tier 2 Regional Mall_WinnipegOverall', 'Tax_Per $1,000 of assessment_Commercial_CalgaryOverall', 'Tax_Per $1,000 of assessment_Commercial_EdmontonOverall', 'Tax_Per $1,000 of assessment_Commercial_HalifaxOverall', 'Tax_Per $1,000 of assessment_Commercial_MontrealOverall', 'Tax_Per $1,000 of assessment_Commercial_National AverageOverall', 'Tax_Per $1,000 of assessment_Commercial_OttawaOverall', 'Tax_Per $1,000 of assessment_Commercial_Quebec CityOverall', 'Tax_Per $1,000 of assessment_Commercial_ReginaOverall', 'Tax_Per $1,000 of assessment_Commercial_SaskatoonOverall', 'Tax_Per $1,000 of assessment_Commercial_TorontoOverall', 'Tax_Per $1,000 of assessment_Commercial_VancouverOverall', 'Tax_Per $1,000 of assessment_Commercial_WinnipegOverall', 'Tax_Per $1,000 of assessment_Residential_CalgaryOverall', 'Tax_Per $1,000 of assessment_Residential_EdmontonOverall', 'Tax_Per $1,000 of assessment_Residential_HalifaxOverall', 'Tax_Per $1,000 of assessment_Residential_MontrealOverall', 'Tax_Per $1,000 of assessment_Residential_National AverageOverall', 'Tax_Per $1,000 of assessment_Residential_OttawaOverall', 'Tax_Per $1,000 of assessment_Residential_Quebec CityOverall', 'Tax_Per $1,000 of assessment_Residential_ReginaOverall', 'Tax_Per $1,000 of assessment_Residential_SaskatoonOverall', 'Tax_Per $1,000 of assessment_Residential_TorontoOverall', 'Tax_Per $1,000 of assessment_Residential_VancouverOverall', 'Tax_Per $1,000 of assessment_Residential_WinnipegOverall'])"
      ]
     },
     "execution_count": 8,
     "metadata": {},
     "output_type": "execute_result"
    }
   ],
   "source": [
    "#Variables  from \"Valuation Parameters\"\n",
    "dictionary_with_panel.keys()"
   ]
  },
  {
   "cell_type": "markdown",
   "metadata": {},
   "source": [
    "#### Creating Presentation :"
   ]
  },
  {
   "cell_type": "code",
   "execution_count": 9,
   "metadata": {
    "code_folding": [
     0
    ]
   },
   "outputs": [],
   "source": [
    "#Using the Design of House View--Template\n",
    "#1. Open Presentation:\n",
    "prs=Presentation('Canadian Capital Markets House View - Q3 2021.pptx')"
   ]
  },
  {
   "cell_type": "markdown",
   "metadata": {},
   "source": [
    "#### SLIDE # 1 - SALES VOLUME WITH LARGEST TRANSACTIONS - CHECKED\n"
   ]
  },
  {
   "cell_type": "code",
   "execution_count": 10,
   "metadata": {
    "code_folding": [
     0
    ]
   },
   "outputs": [],
   "source": [
    "#Select Template\n",
    "lyt=prs.slide_layouts[0]\n",
    "slide=prs.slides.add_slide(lyt)\n",
    "\n",
    "#Look at placeholders in a slide\n",
    "#for shape in slide.placeholders:\n",
    "#     print('%d %s' % (shape.placeholder_format.idx, shape.name))\n",
    "        \n",
    "#Save Slide Place Holders\n",
    "title_1,text_2,chart_1,table_1= slide.placeholders  \n",
    "\n",
    "# Slide - Title\n",
    "title=slide.shapes.title\n",
    "title.text=\"Office - Top 10 Transactions YTD 2021\"\n",
    "\n",
    "##############################################################################\n",
    "#Insert - Table of Top 10 Transactions\n",
    "#Loading transactions and filtering the data I aneed to put into the table\n",
    "Table_Sorted_2= Table_Sorted[Table_Sorted['Sector']=='Office'].head(n=10)\n",
    "Table_Sorted_2=Table_Sorted_2.iloc[:, 2:]\n",
    "Table_Sorted_2.reset_index(drop=True, inplace=True)\n",
    "create_pptx_table(Table_Sorted_2,table_1,font_size=7)\n",
    "\n",
    "##############################################################################\n",
    "#Insert - Stacked Column of Office Investment by Market YTDchart_data = CategoryChartData()\n",
    "chart_data = CategoryChartData()\n",
    "chart_data.categories = Dates_Inv_volumes\n",
    "chart_data.add_series('Toronto',new_dict['Toronto_Office']/1000000000)\n",
    "chart_data.add_series('Vancouver',new_dict['Vancouver_Office']/1000000000)\n",
    "chart_data.add_series('Ottawa',new_dict['Ottawa_Office']/1000000000)\n",
    "chart_data.add_series('Calgary',new_dict['Calgary_Office']/1000000000)\n",
    "chart_data.add_series('Edmonton',new_dict['Edmonton_Office']/1000000000)\n",
    "chart_data.add_series('Montreal',new_dict['Montreal_Office']/1000000000)\n",
    "#chart_data.add_series('SWO',new_dict['SWO_Office'])\n",
    "graphic_frame=chart_1.insert_chart(XL_CHART_TYPE.COLUMN_STACKED, chart_data)\n",
    "Actual_graph=graphic_frame.chart\n",
    "\n",
    "#Global Font Size, Graph\n",
    "Actual_graph.font.size = Pt(8)\n",
    "Actual_graph.font.name = \"Arial\"\n",
    "\n",
    "#Chart title\n",
    "Actual_graph.chart_title.text_frame.text='Historical  Investment Voluments by City YTD 2021'                                                                                             \n",
    "Actual_graph.chart_title.text_frame.paragraphs[0].font.size = Pt(8)\n",
    "\n",
    "#Y Axix\n",
    "Actual_graph.value_axis.axis_title.text_frame.add_paragraph=\"Total Investment $B\"\n",
    "Actual_graph.value_axis.has_major_gridlines=False\n",
    "Actual_graph.value_axis.major_tick_mark\n",
    "tick_labels = Actual_graph.value_axis.tick_labels\n",
    "tick_labels.number_format = '\"$\"#,##'\n",
    "\n",
    "#Legend\n",
    "Actual_graph.has_legend=True\n",
    "Actual_graph.legend.position=XL_LEGEND_POSITION.TOP\n",
    "\n",
    "\n",
    "#Formatting Ticks\n",
    "Actual_graph.value_axis.major_tick_mark= XL_TICK_MARK.NONE  \n",
    "Actual_graph.value_axis.minor_tick_mark= XL_TICK_MARK.NONE \n",
    "Actual_graph.category_axis.major_tick_mark= XL_TICK_MARK.NONE \n"
   ]
  },
  {
   "cell_type": "markdown",
   "metadata": {},
   "source": [
    "#### SLIDE # 2 - INVESTMENT VOLUME- CHECKED"
   ]
  },
  {
   "cell_type": "code",
   "execution_count": 11,
   "metadata": {
    "code_folding": [
     0
    ]
   },
   "outputs": [],
   "source": [
    "#Select Template\n",
    "lyt=prs.slide_layouts[1]\n",
    "slide=prs.slides.add_slide(lyt)\n",
    "\n",
    "#Look at placeholders in a slide\n",
    "#for shape in slide.placeholders:\n",
    "#     print('%d %s' % (shape.placeholder_format.idx, shape.name))\n",
    "        \n",
    "#Save Slide Place Holders\n",
    "title_1,text_1,chart_1= slide.placeholders \n",
    "\n",
    "# Slide - Title\n",
    "title=slide.shapes.title\n",
    "title.text=\"Office - Investment Volumens YTD 2021\"\n",
    "        \n",
    "#Insert - Ranking Investment Volumens\n",
    "Table_Sorted_2= Table_Sorted[Table_Sorted['Sector']=='Office']  \n",
    "table = pd.pivot_table(Table_Sorted_2,index=['Market '],values=['Adjusted Sale Price'], aggfunc=np.sum)\n",
    "table2 = pd.pivot_table(Table_Sorted_2,index=['Market '],values=['Quarter'], aggfunc=np.count_nonzero)\n",
    "table3= pd.concat([table, table2], axis=1)\n",
    "table3=table3.sort_values(by=['Adjusted Sale Price'], ascending=True)  \n",
    "\n",
    "#Testing - Chart Ranking\n",
    "chart_data = CategoryChartData()\n",
    "chart_data.categories = list(table3.index)\n",
    "chart_data.add_series('Investment Volumes', table3['Adjusted Sale Price']/100000000)\n",
    "graphic_frame=chart_1.insert_chart(XL_CHART_TYPE.BAR_CLUSTERED, chart_data)\n",
    "Actual_graph=graphic_frame.chart\n",
    "\n",
    "#Chart title\n",
    "Actual_graph.chart_title.text_frame.text='Investment Volumens YTD 2021'                                                                                             \n",
    "Actual_graph.chart_title.text_frame.paragraphs[0].font.size = Pt(8)\n",
    "\n",
    "#Global Font Size, Graph\n",
    "Actual_graph.font.size = Pt(8)\n",
    "Actual_graph.font.name = \"Arial\"\n",
    "\n",
    "#X Axix\n",
    "Actual_graph.value_axis.axis_title.text_frame.add_paragraph=\"Total Investment $B\"\n",
    "Actual_graph.value_axis.has_major_gridlines=False\n",
    "Actual_graph.value_axis.major_tick_mark\n",
    "tick_labels = Actual_graph.value_axis.tick_labels\n",
    "tick_labels.number_format = '\"$\"#,##'\n"
   ]
  },
  {
   "cell_type": "markdown",
   "metadata": {},
   "source": [
    "#### SLIDE # 3 OFFICE PRICE PER SQUARE FOOT"
   ]
  },
  {
   "cell_type": "code",
   "execution_count": 12,
   "metadata": {
    "code_folding": [
     0
    ]
   },
   "outputs": [],
   "source": [
    "#Select Template\n",
    "#Using data fro YTD requires that all observations in PSF are Numbers not Strings! Not a combination of int, str and floats\n",
    "lyt=prs.slide_layouts[2]\n",
    "slide=prs.slides.add_slide(lyt)\n",
    "\n",
    "#Look at placeholders in a slide\n",
    "#for shape in slide.placeholders:\n",
    "#     print('%d %s' % (shape.placeholder_format.idx, shape.name))\n",
    "\n",
    "title_1,text_1,chart_1,chart_2= slide.placeholders\n",
    "\n",
    "# Slide - Title\n",
    "title=slide.shapes.title\n",
    "title.text=\"Office - Price per Square Foot (PSF)\"\n",
    "\n",
    "\n",
    "#Chart ALTUS PSF DATA - This Works fine\n",
    "chart_data = CategoryChartData()\n",
    "chart_data.categories=  list(Dates_Quarters)\n",
    "chart_data.add_series('Calgary',    fill_array_with_near_value(dictionary_with_panel['Office_Avg. Sale Price PSF_Downtown _CalgaryAA']))\n",
    "chart_data.add_series('Edmonton',    fill_array_with_near_value(dictionary_with_panel['Office_Avg. Sale Price PSF_Downtown _EdmontonAA']))\n",
    "chart_data.add_series('Vancouver',  fill_array_with_near_value(dictionary_with_panel['Office_Avg. Sale Price PSF_Downtown _VancouverAA']))\n",
    "chart_data.add_series('Montreal',  fill_array_with_near_value(dictionary_with_panel['Office_Avg. Sale Price PSF_Downtown _MontrealAA']))\n",
    "chart_data.add_series('Toronto',  fill_array_with_near_value(dictionary_with_panel['Office_Avg. Sale Price PSF_Downtown _TorontoAA']))\n",
    "chart_data.add_series('Ottawa',  fill_array_with_near_value(dictionary_with_panel['Office_Avg. Sale Price PSF_Downtown _Ottawa-GatineauAA']))\n",
    "graphic_frame=chart_1.insert_chart(XL_CHART_TYPE.LINE, chart_data)\n",
    "Actual_graph=graphic_frame.chart\n",
    "\n",
    "#Global Font Size\n",
    "Actual_graph.font.size = Pt(8)\n",
    "Actual_graph.font.name = \"Arial\"\n",
    "\n",
    "#Chart title\n",
    "Actual_graph.chart_title.text_frame.text='Average $PSF'                                                                                              \n",
    "Actual_graph.chart_title.text_frame.paragraphs[0].font.size = Pt(8)\n",
    "\n",
    "#Legend\n",
    "Actual_graph.has_legend=True\n",
    "Actual_graph.legend.position=XL_LEGEND_POSITION.TOP\n",
    "\n",
    "#Value Axis\n",
    "Actual_graph.value_axis.axis_title.text_frame.add_paragraph=\"$ PSF\"\n",
    "Actual_graph.value_axis.has_major_gridlines=False\n",
    "tick_labels = Actual_graph.value_axis.tick_labels\n",
    "tick_labels.number_format = '\"$\"#,##'\n",
    "Actual_graph.value_axis.major_tick_mark= XL_TICK_MARK.NONE  \n",
    "Actual_graph.value_axis.minor_tick_mark= XL_TICK_MARK.NONE  \n",
    "\n",
    "#Category Axisx\n",
    "Actual_graph.category_axis.major_tick_mark= XL_TICK_MARK.NONE    \n",
    " \n",
    "########################################################################################################################\n",
    "# Graph - So whisker Charts are not supported but just go and modify \n",
    "Table_Sorted_2=Table_Sorted[Table_Sorted.Sector==\"Office\"]\n",
    "Table_Sorted_3= Table_Sorted_2[Table_Sorted_2['Price PSF (Built Commercial)'].notnull()]\n",
    "Table_Sorted_3= Table_Sorted_3[Table_Sorted_3['Price PSF (Built Commercial)'].notnull()]\n",
    "Dictionary_PSF=Table_Sorted_3['Price PSF (Built Commercial)'].to_dict()\n",
    "Dictionary_Cities=Table_Sorted_3['Market '].to_dict()\n",
    "\n",
    "chart_data = CategoryChartData()\n",
    "chart_data.categories=  list(Table_Sorted_3['Market '])\n",
    "\n",
    "#This is the problem!!!!!\n",
    "#chart_data.add_series('PSF',list(Table_Sorted_3['Price PSF (Built Commercial)'].astype(str)))   \n",
    "#graphic_frame=chart_2.insert_chart(XL_CHART_TYPE.LINE, chart_data)\n",
    "#Actual_graph=graphic_frame.chart\n",
    "\n",
    "#Global Font Size\n",
    "#Actual_graph.font.size = Pt(8)\n",
    "#Actual_graph.font.name = \"Arial (Body)\"\n",
    "\n",
    "#Chart title\n",
    "#Actual_graph.chart_title.text_frame.text='$PSF by City'                                                                                              \n",
    "#Actual_graph.chart_title.text_frame.paragraphs[0].font.size = Pt(8)\n",
    "\n",
    "#Value Axis\n",
    "#Actual_graph.value_axis.axis_title.text_frame.add_paragraph=\"$ PSF\"\n",
    "#Actual_graph.value_axis.has_major_gridlines=False\n",
    "#tick_labels = Actual_graph.value_axis.tick_labels\n",
    "#tick_labels.number_format = '\"$\"#,##'\n",
    "#Actual_graph.value_axis.major_tick_mark= XL_TICK_MARK.NONE  \n",
    "#Actual_graph.value_axis.minor_tick_mark= XL_TICK_MARK.NONE  \n",
    "\n",
    "#Category Axisx\n",
    "#Actual_graph.category_axis.major_tick_mark= XL_TICK_MARK.NONE \n"
   ]
  },
  {
   "cell_type": "markdown",
   "metadata": {},
   "source": [
    "#### SLIDE # 4 OFFICE CAP. RATES"
   ]
  },
  {
   "cell_type": "code",
   "execution_count": 13,
   "metadata": {
    "code_folding": [
     0
    ],
    "collapsed": true
   },
   "outputs": [
    {
     "name": "stderr",
     "output_type": "stream",
     "text": [
      "<ipython-input-13-c63b58da554d>:98: SettingWithCopyWarning: \n",
      "A value is trying to be set on a copy of a slice from a DataFrame.\n",
      "Try using .loc[row_indexer,col_indexer] = value instead\n",
      "\n",
      "See the caveats in the documentation: https://pandas.pydata.org/pandas-docs/stable/user_guide/indexing.html#returning-a-view-versus-a-copy\n",
      "  my_panel_2['Market_Class']=my_panel_2['Sub-Type']+\"_\"+my_panel_2['Class']\n"
     ]
    }
   ],
   "source": [
    "#Select Template\n",
    "lyt=prs.slide_layouts[2]\n",
    "slide=prs.slides.add_slide(lyt)\n",
    "\n",
    "#Look at placeholders in a slide\n",
    "#for shape in slide.placeholders:\n",
    "#     print('%d %s' % (shape.placeholder_format.idx, shape.name))\n",
    "        \n",
    "#Save Slide Place Holders\n",
    "title_1,text_1,chart_1,chart_2= slide.placeholders\n",
    "\n",
    "# Slide - Title\n",
    "title=slide.shapes.title\n",
    "title.text=\"Office - Cap Rates\"\n",
    "\n",
    "     \n",
    "#Chart ALTUS PSF DATA\n",
    "chart_data = CategoryChartData()\n",
    "chart_data.categories=  list(Dates_Quarters)\n",
    "chart_data.add_series('National Average - Overall',    fill_array_with_near_value(dictionary_with_panel['Office_Cap Rate_Overall_National AverageOverall']))\n",
    "chart_data.add_series(\"National Average - Downtown 'AA'\",    fill_array_with_near_value(dictionary_with_panel['Office_Cap Rate_Downtown _National AverageAA']))\n",
    "chart_data.add_series(\"National Average - Downtown 'B'\",    fill_array_with_near_value(dictionary_with_panel['Office_Cap Rate_Downtown _National AverageB']))\n",
    "chart_data.add_series(\"National Average - Suburban 'A'\",    fill_array_with_near_value(dictionary_with_panel['Office_Cap Rate_Suburban_National AverageA']))\n",
    "chart_data.add_series(\"National Average - Suburban 'B'\",    fill_array_with_near_value(dictionary_with_panel['Office_Cap Rate_Suburban_National AverageB']))\n",
    "\n",
    "chart_data.add_series(\"GoC - 10y Bond\",    fill_array_with_near_value(Financial_Data_dict['Canada 10 Year Benchmark Bond Yield -Bank of Canada 10 year bond yield_Bond_National_Bond_Interest Rate_Bank of Canada - Y Charts']))\n",
    "\n",
    "graphic_frame=chart_1.insert_chart(XL_CHART_TYPE.LINE, chart_data)\n",
    "Actual_graph=graphic_frame.chart\n",
    "\n",
    "#Global Font Size\n",
    "Actual_graph.font.size = Pt(8)\n",
    "Actual_graph.font.name = \"Arial\"\n",
    "\n",
    "#Chart title\n",
    "Actual_graph.chart_title.text_frame.text='Average Cap.Rates(%)'                                                                                              \n",
    "Actual_graph.chart_title.text_frame.paragraphs[0].font.size = Pt(8)\n",
    "\n",
    "#Legend\n",
    "Actual_graph.has_legend=True\n",
    "Actual_graph.legend.position=XL_LEGEND_POSITION.TOP\n",
    "\n",
    "#Value Axis\n",
    "Actual_graph.value_axis.axis_title.text_frame.add_paragraph=\"$ PSF\"\n",
    "Actual_graph.value_axis.has_major_gridlines=False\n",
    "tick_labels = Actual_graph.value_axis.tick_labels\n",
    "tick_labels.number_format = '0%'\n",
    "Actual_graph.value_axis.major_tick_mark= XL_TICK_MARK.NONE  \n",
    "Actual_graph.value_axis.minor_tick_mark= XL_TICK_MARK.NONE  \n",
    "\n",
    "#Category Axisx\n",
    "Actual_graph.category_axis.major_tick_mark= XL_TICK_MARK.NONE    \n",
    " \n",
    "########################################################################################################################\n",
    "#IRR Differences with Cap Rates\n",
    "#YTD Table, comparing Average Net Rents\n",
    "YTD_Data_1=my_panel[(my_panel['Sector'] == \"Office\") & \n",
    "                  (my_panel['Dates'] == my_panel['Dates'].max()) &\n",
    "                  (my_panel['Parameter'] == 'Cap Rate') &\n",
    "                  (my_panel['Sub-Type'] == 'Downtown ')&\n",
    "                  (my_panel['Class'] == 'AA')][['Market','Value']]\n",
    "\n",
    "#YTD Table, comparing Average Net Rents\n",
    "YTD_Data_2=my_panel[(my_panel['Sector'] == \"Office\") & \n",
    "                  (my_panel['Dates'] == my_panel['Dates'].max()) &\n",
    "                  (my_panel['Parameter'] == 'Cap Rate') &\n",
    "                  (my_panel['Sub-Type'] == 'Downtown ')&\n",
    "                  (my_panel['Class'] == 'B')][['Market','Value']]\n",
    "\n",
    "#YTD Table, comparing Average Net Rents\n",
    "YTD_Data_3=my_panel[(my_panel['Sector'] == \"Office\") & \n",
    "                  (my_panel['Dates'] == my_panel['Dates'].max()) &\n",
    "                  (my_panel['Parameter'] == 'Cap Rate') &\n",
    "                  (my_panel['Sub-Type'] == 'Suburban')&\n",
    "                  (my_panel['Class'] == 'A')][['Market','Value']]\n",
    "\n",
    "\n",
    "#YTD Table, comparing Average Net Rents\n",
    "YTD_Data_4=my_panel[(my_panel['Sector'] == \"Office\") & \n",
    "                  (my_panel['Dates'] == my_panel['Dates'].max()) &\n",
    "                  (my_panel['Parameter'] == 'Cap Rate') &\n",
    "                  (my_panel['Sub-Type'] == 'Suburban')&\n",
    "                  (my_panel['Class'] == 'B')][['Market','Value']]\n",
    "\n",
    "\n",
    "#Merging the Data - To Check Out Horizontal comparions \n",
    "YTD_comparison=YTD_Data_1.merge(YTD_Data_2, on='Market', how='outer')\n",
    "YTD_comparison=YTD_comparison.rename(columns={\"Value_x\": \"Downtown - 'AA'\" , \"Value_y\": \"Downtown - 'B'\"}, errors=\"raise\")\n",
    "YTD_comparison=YTD_comparison.merge(YTD_Data_3, on='Market', how='outer').merge(YTD_Data_4, on='Market', how='outer')\n",
    "YTD_comparison=YTD_comparison.rename(columns={\"Value_x\": \"Suburban - 'A'\" , \"Value_y\": \"Suburban - 'B'\"}, errors=\"raise\")                                            \n",
    "\n",
    "\n",
    "#For the Graph\n",
    "my_panel_2=my_panel[(my_panel['Sector'] == \"Office\") & \n",
    "                  (my_panel['Dates'] == my_panel['Dates'].max()) &\n",
    "                  (my_panel['Parameter'] == 'Cap Rate')]\n",
    "\n",
    "my_panel_2['Market_Class']=my_panel_2['Sub-Type']+\"_\"+my_panel_2['Class']\n",
    "my_panel_2=my_panel_2[['Market_Class','Value']]\n",
    "\n",
    "\n",
    "#Building the Graph\n",
    "chart_data = CategoryChartData()\n",
    "chart_data.categories=  my_panel_2['Market_Class']\n",
    "chart_data.add_series('Cap Rates (%)',    my_panel_2[\"Value\"])\n",
    "\n",
    "\n",
    "graphic_frame=chart_2.insert_chart(XL_CHART_TYPE.LINE, chart_data)\n",
    "Actual_graph=graphic_frame.chart\n",
    "\n",
    "#Global Font Size\n",
    "Actual_graph.font.size = Pt(8)\n",
    "Actual_graph.font.name = \"Arial\"\n",
    "\n",
    "#Chart title\n",
    "Actual_graph.chart_title.text_frame.text='Average Cap.Rates by Class(%)'                                                                                              \n",
    "Actual_graph.chart_title.text_frame.paragraphs[0].font.size = Pt(8)\n",
    "\n",
    "#Legend\n",
    "Actual_graph.has_legend=True\n",
    "Actual_graph.legend.position=XL_LEGEND_POSITION.TOP\n",
    "\n",
    "#Value Axis\n",
    "Actual_graph.value_axis.axis_title.text_frame.add_paragraph=\"$ PSF\"\n",
    "Actual_graph.value_axis.has_major_gridlines=False\n",
    "tick_labels = Actual_graph.value_axis.tick_labels\n",
    "tick_labels.number_format = '0%'\n",
    "Actual_graph.value_axis.major_tick_mark= XL_TICK_MARK.NONE  \n",
    "Actual_graph.value_axis.minor_tick_mark= XL_TICK_MARK.NONE  \n",
    "\n",
    "#Category Axisx\n",
    "Actual_graph.category_axis.major_tick_mark= XL_TICK_MARK.NONE    \n",
    "\n"
   ]
  },
  {
   "cell_type": "markdown",
   "metadata": {},
   "source": [
    "#### SLIDE # 5 OFFICE MARKET FUNDAMENTALS - AVERAGE NET RENT"
   ]
  },
  {
   "cell_type": "code",
   "execution_count": 14,
   "metadata": {
    "code_folding": [
     0
    ],
    "scrolled": true
   },
   "outputs": [],
   "source": [
    "#Select Template\n",
    "lyt=prs.slide_layouts[2]\n",
    "slide=prs.slides.add_slide(lyt)\n",
    "\n",
    "#Look at placeholders in a slide\n",
    "#for shape in slide.placeholders:\n",
    "#     print('%d %s' % (shape.placeholder_format.idx, shape.name))\n",
    "        \n",
    "#Save Slide Place Holders\n",
    "title_1,text_2,chart_1,chart_2= slide.placeholders\n",
    "\n",
    "# Slide - Title\n",
    "title=slide.shapes.title\n",
    "title.text=\"Office Market Fundamentals - Avg. Net Rents\"\n",
    "\n",
    "########################################################################################################################\n",
    "#Line Chart of National Net Rents\n",
    "chart_data = CategoryChartData()\n",
    "chart_data.categories=  list(Dates_Quarters)\n",
    "#chart_data.categories=  list(dictionary_with_panel['Dates'])\n",
    "chart_data.add_series('Downtown - \"AA\"',    fill_array_with_near_value(dictionary_with_panel['Office_Average Net Rent_Downtown _National AverageAA']))\n",
    "chart_data.add_series('Downtown - Overall',    fill_array_with_near_value(dictionary_with_panel['Office_Average Net Rent_Downtown _National AverageOverall']))\n",
    "chart_data.add_series('Suburban - Overall',  fill_array_with_near_value(dictionary_with_panel['Office_Average Net Rent_Suburban_National AverageOverall']))\n",
    "chart_data.add_series('Overall',  fill_array_with_near_value(dictionary_with_panel['Office_Average Net Rent_Overall_National AverageOverall']))\n",
    "\n",
    "graphic_frame=chart_1.insert_chart(XL_CHART_TYPE.LINE, chart_data)\n",
    "Actual_graph=graphic_frame.chart\n",
    "\n",
    "#Global Font Size\n",
    "Actual_graph.font.size = Pt(8)\n",
    "Actual_graph.font.name = \"Arial\"\n",
    "\n",
    "#Chart title\n",
    "Actual_graph.chart_title.text_frame.text='Average Net Rents Q3 2021'                                                                                              \n",
    "Actual_graph.chart_title.text_frame.paragraphs[0].font.size = Pt(8)                                                                                     \n",
    "                                                                               \n",
    "\n",
    "#Legend\n",
    "Actual_graph.has_legend=True\n",
    "Actual_graph.legend.position=XL_LEGEND_POSITION.TOP\n",
    "\n",
    "#Value Axis\n",
    "Actual_graph.value_axis.axis_title.text_frame.add_paragraph=\"$ PSF\"\n",
    "Actual_graph.value_axis.has_major_gridlines=False\n",
    "tick_labels = Actual_graph.value_axis.tick_labels\n",
    "tick_labels.number_format = '\"$\"#,##'\n",
    "Actual_graph.value_axis.major_tick_mark= XL_TICK_MARK.NONE  \n",
    "Actual_graph.value_axis.minor_tick_mark= XL_TICK_MARK.NONE  \n",
    "Actual_graph.category_axis.major_tick_mark= XL_TICK_MARK.NONE \n",
    "\n",
    "########################################################################################################################\n",
    "#YTD Table, comparing Average Net Rents\n",
    "YTD_Data_1=my_panel[(my_panel['Sector'] == \"Office\") & \n",
    "                  (my_panel['Dates'] == my_panel['Dates'].max()) &\n",
    "                  (my_panel['Parameter'] == 'Average Net Rent') &\n",
    "                  (my_panel['Sub-Type'] == 'Downtown ')&\n",
    "                  (my_panel['Class'] == 'AA')][['Market','Value']]\n",
    "\n",
    "YTD_Data_2=my_panel[(my_panel['Sector'] == \"Office\") & \n",
    "                  (my_panel['Dates'] == my_panel['Dates'].max()) &\n",
    "                  (my_panel['Parameter'] == 'Average Net Rent') &\n",
    "                  (my_panel['Sub-Type'] == 'Downtown ')&\n",
    "                  (my_panel['Class'] == 'Overall')][['Market','Value']]\n",
    "\n",
    "YTD_Data_3=my_panel[(my_panel['Sector'] == \"Office\") & \n",
    "                  (my_panel['Dates'] == my_panel['Dates'].max()) &\n",
    "                  (my_panel['Parameter'] == 'Average Net Rent') &\n",
    "                  (my_panel['Sub-Type'] == 'Suburban')&\n",
    "                  (my_panel['Class'] == 'Overall')][['Market','Value']]\n",
    "\n",
    "#Merging the Data        \n",
    "YTD_comparison=YTD_Data_1.merge(YTD_Data_2, on='Market', how='outer').merge(YTD_Data_3, on='Market', how='outer') \n",
    "YTD_comparison=YTD_comparison.rename(columns={\"Value_x\": \"Downtown - 'AA'\" , \"Value_y\": \"Downtown - Overall\" , \"Value\": \"Suburban - Overall\"}, errors=\"raise\")\n",
    "YTD_comparison=YTD_comparison.dropna()\n",
    "\n",
    "#Chart of National Net Rents\n",
    "chart_data = CategoryChartData()\n",
    "chart_data.categories=  list(YTD_comparison['Market'])\n",
    "chart_data.add_series(\"Downtown - 'AA'\",   list(YTD_comparison[\"Downtown - 'AA'\"]))\n",
    "chart_data.add_series(\"Downtown - Overall\",    list(YTD_comparison[\"Downtown - Overall\"]))\n",
    "chart_data.add_series(\"Suburban - Overall\",   list(YTD_comparison[\"Suburban - Overall\"]))\n",
    "graphic_frame=chart_2.insert_chart(XL_CHART_TYPE.COLUMN_CLUSTERED, chart_data)\n",
    "Actual_graph=graphic_frame.chart\n",
    "\n",
    "#Global Font Size\n",
    "Actual_graph.font.size = Pt(8)\n",
    "Actual_graph.font.name = \"Arial\"\n",
    "\n",
    "#Chart title\n",
    "Actual_graph.chart_title.text_frame.text='Average Net Rents Q3 2021'                                                                                              \n",
    "Actual_graph.chart_title.text_frame.paragraphs[0].font.size = Pt(8)\n",
    "\n",
    "#Legend\n",
    "Actual_graph.has_legend=True\n",
    "Actual_graph.legend.position=XL_LEGEND_POSITION.TOP\n",
    "\n",
    "\n",
    "#Value Axis\n",
    "Actual_graph.value_axis.axis_title.text_frame.add_paragraph=\"$ PSF\"\n",
    "Actual_graph.value_axis.has_major_gridlines=False\n",
    "tick_labels = Actual_graph.value_axis.tick_labels\n",
    "tick_labels.number_format = '\"$\"#,##'\n",
    "Actual_graph.value_axis.major_tick_mark= XL_TICK_MARK.NONE  \n",
    "Actual_graph.value_axis.minor_tick_mark= XL_TICK_MARK.NONE  \n",
    "Actual_graph.category_axis.major_tick_mark= XL_TICK_MARK.NONE \n"
   ]
  },
  {
   "cell_type": "markdown",
   "metadata": {},
   "source": [
    "#### SLIDE # 6 OFFICE MARKET FUNDAMENTALS - VACANCY RATES"
   ]
  },
  {
   "cell_type": "code",
   "execution_count": 16,
   "metadata": {
    "code_folding": [
     0
    ]
   },
   "outputs": [],
   "source": [
    "#Select Template\n",
    "lyt=prs.slide_layouts[2]\n",
    "slide=prs.slides.add_slide(lyt)\n",
    "\n",
    "#Look at placeholders in a slide\n",
    "#for shape in slide.placeholders:\n",
    "#     print('%d %s' % (shape.placeholder_format.idx, shape.name))\n",
    "        \n",
    "#Save Slide Place Holders\n",
    "title_1,text_2,chart_1,chart_2= slide.placeholders\n",
    "\n",
    "# Slide - Title\n",
    "title=slide.shapes.title\n",
    "title.text=\"Office Market Fundamentals - Vacancy Rates\"\n",
    "\n",
    "\n",
    "########################################################################################################################\n",
    "#Line Chart of National Net Rents\n",
    "chart_data = CategoryChartData()\n",
    "chart_data.categories=  list(Dates_Quarters)\n",
    "#chart_data.categories=  list(dictionary_with_panel['Dates'])\n",
    "chart_data.add_series('Downtown - \"AA\"',    fill_array_with_near_value(dictionary_with_panel['Office_Vacancy (%)_Downtown _National AverageAA']))\n",
    "chart_data.add_series('Downtown - Overall',    fill_array_with_near_value(dictionary_with_panel['Office_Vacancy (%)_Downtown _National AverageOverall']))\n",
    "chart_data.add_series('Suburban - Overall',  fill_array_with_near_value(dictionary_with_panel['Office_Vacancy (%)_Suburban_National AverageOverall']))\n",
    "chart_data.add_series('Overall',  fill_array_with_near_value(dictionary_with_panel['Office_Vacancy (%)_Overall_National AverageOverall']))\n",
    "\n",
    "graphic_frame=chart_1.insert_chart(XL_CHART_TYPE.LINE, chart_data)\n",
    "Actual_graph=graphic_frame.chart\n",
    "\n",
    "#Global Font Size\n",
    "Actual_graph.font.size = Pt(8)\n",
    "Actual_graph.font.name = \"Arial\"                                                                                           \n",
    "#Chart title\n",
    "Actual_graph.chart_title.text_frame.text='Vacancy Rates (%) YTD 2021'\n",
    "Actual_graph.chart_title.text_frame.paragraphs[0].font.size = Pt(8)    \n",
    "\n",
    "#Legend\n",
    "Actual_graph.has_legend=True\n",
    "Actual_graph.legend.position=XL_LEGEND_POSITION.TOP\n",
    "\n",
    "#Value Axis\n",
    "Actual_graph.value_axis.axis_title.text_frame.add_paragraph=\"Vacancy Rate (%)\"\n",
    "Actual_graph.value_axis.has_major_gridlines=False\n",
    "tick_labels = Actual_graph.value_axis.tick_labels\n",
    "tick_labels.number_format = '0%'\n",
    "Actual_graph.value_axis.major_tick_mark= XL_TICK_MARK.NONE  \n",
    "Actual_graph.value_axis.minor_tick_mark= XL_TICK_MARK.NONE  \n",
    "Actual_graph.category_axis.major_tick_mark= XL_TICK_MARK.NONE \n",
    "\n",
    "########################################################################################################################\n",
    "#YTD Table, comparing Average Vacancy Rates\n",
    "YTD_Data_1=my_panel[(my_panel['Sector'] == \"Office\") & \n",
    "                  (my_panel['Dates'] == my_panel['Dates'].max()) &\n",
    "                  (my_panel['Parameter'] == 'Vacancy (%)') &\n",
    "                  (my_panel['Sub-Type'] == 'Downtown ')&\n",
    "                  (my_panel['Class'] == 'AA')][['Market','Value']]\n",
    "\n",
    "YTD_Data_2=my_panel[(my_panel['Sector'] == \"Office\") & \n",
    "                  (my_panel['Dates'] == my_panel['Dates'].max()) &\n",
    "                  (my_panel['Parameter'] == 'Vacancy (%)') &\n",
    "                  (my_panel['Sub-Type'] == 'Downtown ')&\n",
    "                  (my_panel['Class'] == 'Overall')][['Market','Value']]\n",
    "\n",
    "YTD_Data_3=my_panel[(my_panel['Sector'] == \"Office\") & \n",
    "                  (my_panel['Dates'] == my_panel['Dates'].max()) &\n",
    "                  (my_panel['Parameter'] == 'Vacancy (%)') &\n",
    "                  (my_panel['Sub-Type'] == 'Suburban')&\n",
    "                  (my_panel['Class'] == 'Overall')][['Market','Value']]\n",
    "\n",
    "#Merging the Data        \n",
    "YTD_comparison=YTD_Data_1.merge(YTD_Data_2, on='Market', how='outer').merge(YTD_Data_3, on='Market', how='outer') \n",
    "YTD_comparison=YTD_comparison.rename(columns={\"Value_x\": \"Downtown - 'AA'\" , \"Value_y\": \"Downtown - Overall\" , \"Value\": \"Suburban - Overall\"}, errors=\"raise\")\n",
    "YTD_comparison=YTD_comparison.dropna()\n",
    "\n",
    "#Chart of National -  Average Vacancy Rates\n",
    "chart_data = CategoryChartData()\n",
    "chart_data.categories=  list(YTD_comparison['Market'])\n",
    "chart_data.add_series(\"Downtown - 'AA'\",   list(YTD_comparison[\"Downtown - 'AA'\"]))\n",
    "chart_data.add_series(\"Downtown - Overall\",    list(YTD_comparison[\"Downtown - Overall\"]))\n",
    "chart_data.add_series(\"Suburban - Overall\",   list(YTD_comparison[\"Suburban - Overall\"]))\n",
    "graphic_frame=chart_2.insert_chart(XL_CHART_TYPE.COLUMN_CLUSTERED, chart_data)\n",
    "Actual_graph=graphic_frame.chart\n",
    "\n",
    "#Chart title\n",
    "Actual_graph.chart_title.text_frame.text='Vacancy Rates Comparisons Q3 2021'                                                                                              \n",
    "Actual_graph.chart_title.text_frame.paragraphs[0].font.size = Pt(8)                                                                                     \n",
    "\n",
    "#Legend\n",
    "Actual_graph.has_legend=True\n",
    "Actual_graph.legend.position=XL_LEGEND_POSITION.TOP\n",
    "                                                                                              \n",
    "#Global Font Size\n",
    "Actual_graph.font.size = Pt(8)\n",
    "Actual_graph.font.name = \"Arial\"\n",
    "\n",
    "#Value Axis\n",
    "Actual_graph.value_axis.axis_title.text_frame.add_paragraph=\"Vacancy Rate (%)\"\n",
    "Actual_graph.value_axis.has_major_gridlines=False\n",
    "tick_labels = Actual_graph.value_axis.tick_labels\n",
    "tick_labels.number_format = '0%'\n",
    "Actual_graph.value_axis.major_tick_mark= XL_TICK_MARK.NONE  \n",
    "Actual_graph.value_axis.minor_tick_mark= XL_TICK_MARK.NONE  \n",
    "Actual_graph.category_axis.major_tick_mark= XL_TICK_MARK.NONE \n"
   ]
  },
  {
   "cell_type": "markdown",
   "metadata": {},
   "source": [
    "#### Slide # 7 OFFICE CONSTRUCTION\n"
   ]
  },
  {
   "cell_type": "code",
   "execution_count": 17,
   "metadata": {
    "code_folding": [
     0
    ]
   },
   "outputs": [],
   "source": [
    "#Select Template\n",
    "lyt=prs.slide_layouts[3]\n",
    "slide=prs.slides.add_slide(lyt)\n",
    "\n",
    "#Look at placeholders in a slide\n",
    "#for shape in slide.placeholders:\n",
    "#     print('%d %s' % (shape.placeholder_format.idx, shape.name))\n",
    "        \n",
    "#Save Slide Place Holders\n",
    "title_1,text_2,chart_1= slide.placeholders  \n",
    "\n",
    "# Slide - Title\n",
    "title=slide.shapes.title\n",
    "title.text=\"Office Under Construction\"\n",
    "\n",
    "       \n",
    "#Chart - Under Construction PSF DATA\n",
    "chart_data = CategoryChartData()\n",
    "chart_data.categories=  list(Dates_Quarters)\n",
    "chart_data.add_series('Calgary',    fill_array_with_near_value(dictionary_with_panel['Office_Under Construction (s.f.)_Overall_CalgaryOverall']))\n",
    "chart_data.add_series('Edmonton',    fill_array_with_near_value(dictionary_with_panel['Office_Under Construction (s.f.)_Overall_EdmontonOverall']))\n",
    "chart_data.add_series('Vancouver',  fill_array_with_near_value(dictionary_with_panel['Office_Under Construction (s.f.)_Overall_VancouverOverall']))\n",
    "chart_data.add_series('Montreal',  fill_array_with_near_value(dictionary_with_panel['Office_Under Construction (s.f.)_Overall_MontrealOverall']))\n",
    "chart_data.add_series('Toronto',  fill_array_with_near_value(dictionary_with_panel['Office_Under Construction (s.f.)_Overall_TorontoOverall']))\n",
    "chart_data.add_series('Ottawa',  fill_array_with_near_value(dictionary_with_panel['Office_Under Construction (s.f.)_Overall_Ottawa-GatineauOverall']))\n",
    "graphic_frame=chart_1.insert_chart(XL_CHART_TYPE.AREA_STACKED, chart_data)\n",
    "Actual_graph=graphic_frame.chart\n",
    "\n",
    "\n",
    "#Global Font Size\n",
    "Actual_graph.font.size = Pt(8)\n",
    "Actual_graph.font.name = \"Arial\"\n",
    "\n",
    "#Chart title\n",
    "Actual_graph.chart_title.text_frame.text='Under Construction SF'                                                                                              \n",
    "Actual_graph.chart_title.text_frame.paragraphs[0].font.size = Pt(8)\n",
    "\n",
    "#Legend\n",
    "Actual_graph.has_legend=True\n",
    "Actual_graph.legend.position=XL_LEGEND_POSITION.TOP\n",
    "\n",
    "#Value Axis\n",
    "Actual_graph.value_axis.axis_title.text_frame.add_paragraph=\"Square Feet\"\n",
    "Actual_graph.value_axis.has_major_gridlines=False\n",
    "tick_labels = Actual_graph.value_axis.tick_labels\n",
    "tick_labels.number_format = '#,##'\n",
    "Actual_graph.value_axis.major_tick_mark= XL_TICK_MARK.NONE  \n",
    "Actual_graph.value_axis.minor_tick_mark= XL_TICK_MARK.NONE  \n",
    "\n",
    "#Category Axisx\n",
    "Actual_graph.category_axis.major_tick_mark= XL_TICK_MARK.NONE    \n"
   ]
  },
  {
   "cell_type": "markdown",
   "metadata": {},
   "source": [
    "#### PRINT PRESENTATION"
   ]
  },
  {
   "cell_type": "code",
   "execution_count": 18,
   "metadata": {},
   "outputs": [],
   "source": [
    "#Save presentation\n",
    "prs.save(file_output_name)"
   ]
  }
 ],
 "metadata": {
  "kernelspec": {
   "display_name": "Python 3",
   "language": "python",
   "name": "python3"
  },
  "language_info": {
   "codemirror_mode": {
    "name": "ipython",
    "version": 3
   },
   "file_extension": ".py",
   "mimetype": "text/x-python",
   "name": "python",
   "nbconvert_exporter": "python",
   "pygments_lexer": "ipython3",
   "version": "3.8.5"
  }
 },
 "nbformat": 4,
 "nbformat_minor": 4
}
